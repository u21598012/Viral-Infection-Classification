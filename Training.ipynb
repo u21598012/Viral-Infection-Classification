{
 "cells": [
  {
   "cell_type": "code",
   "execution_count": 0,
   "metadata": {
    "application/vnd.databricks.v1+cell": {
     "cellMetadata": {
      "byteLimit": 2048000,
      "rowLimit": 10000
     },
     "inputWidgets": {},
     "nuid": "65057790-65ab-409b-b9b9-edc2b23bd778",
     "showTitle": false,
     "tableResultSettingsMap": {},
     "title": ""
    }
   },
   "outputs": [],
   "source": [
    "df_clean = spark.read.parquet(\"/Volumes/workspace/default/projects/cleaned_data/mouse_viral_study_cleaned.parquet\")\n",
    "\n",
    "df_clean = df_clean.withColumn(\"virus_present\", df_clean[\"virus_present\"].cast(\"boolean\"))\n",
    "\n",
    "# display(df_clean)\n",
    "\n",
    "df_pd = df_clean.toPandas()"
   ]
  },
  {
   "cell_type": "code",
   "execution_count": 0,
   "metadata": {
    "application/vnd.databricks.v1+cell": {
     "cellMetadata": {
      "byteLimit": 2048000,
      "rowLimit": 10000
     },
     "inputWidgets": {},
     "nuid": "52a1d942-c143-4c00-bc04-f954c70d22ea",
     "showTitle": false,
     "tableResultSettingsMap": {},
     "title": ""
    }
   },
   "outputs": [],
   "source": [
    "import mlflow\n"
   ]
  },
  {
   "cell_type": "code",
   "execution_count": 0,
   "metadata": {
    "application/vnd.databricks.v1+cell": {
     "cellMetadata": {
      "byteLimit": 2048000,
      "rowLimit": 10000
     },
     "collapsed": true,
     "inputWidgets": {},
     "nuid": "e9e28e6f-c03c-4c38-bdc4-8d48b3c3015f",
     "showTitle": false,
     "tableResultSettingsMap": {},
     "title": ""
    }
   },
   "outputs": [],
   "source": [
    "CATALOG_NAME = \"workspace\"\n",
    "SCHEMA_NAME = \"default\""
   ]
  },
  {
   "cell_type": "code",
   "execution_count": 0,
   "metadata": {
    "application/vnd.databricks.v1+cell": {
     "cellMetadata": {
      "byteLimit": 2048000,
      "rowLimit": 10000
     },
     "inputWidgets": {},
     "nuid": "119fed0b-b539-486e-8ba8-0fcbf0485afd",
     "showTitle": false,
     "tableResultSettingsMap": {},
     "title": ""
    }
   },
   "outputs": [],
   "source": [
    "mvis_table = f\"{CATALOG_NAME}.{SCHEMA_NAME}.mvis\"\n",
    "spark.sql(f\"DROP TABLE IF EXISTS {mvis_table}\")\n",
    "df_clean.write.format(\"delta\").saveAsTable(mvis_table)"
   ]
  },
  {
   "cell_type": "code",
   "execution_count": 0,
   "metadata": {
    "application/vnd.databricks.v1+cell": {
     "cellMetadata": {
      "byteLimit": 2048000,
      "rowLimit": 10000
     },
     "inputWidgets": {},
     "nuid": "da775cfa-f6cd-43a0-9327-9e5ed46a7e75",
     "showTitle": false,
     "tableResultSettingsMap": {},
     "title": ""
    }
   },
   "outputs": [],
   "source": [
    "import numpy as np\n",
    "import pandas as pd\n",
    "import sklearn.datasets\n",
    "import sklearn.metrics\n",
    "import sklearn.model_selection\n",
    "import sklearn.ensemble\n",
    "import sklearn.svm\n",
    "\n",
    "import matplotlib.pyplot as plt\n",
    "\n",
    "from hyperopt import fmin, tpe, hp, SparkTrials, Trials, STATUS_OK\n",
    "from hyperopt.pyll import scope"
   ]
  },
  {
   "cell_type": "code",
   "execution_count": 0,
   "metadata": {
    "application/vnd.databricks.v1+cell": {
     "cellMetadata": {
      "byteLimit": 2048000,
      "rowLimit": 10000
     },
     "inputWidgets": {},
     "nuid": "b4ef162c-dc82-4bb6-a65d-f80cf2e3ee64",
     "showTitle": false,
     "tableResultSettingsMap": {},
     "title": ""
    }
   },
   "outputs": [],
   "source": [
    "data_labels = df_pd['virus_present']\n",
    "df_pd = df_pd.drop(['virus_present'], axis=1)"
   ]
  },
  {
   "cell_type": "code",
   "execution_count": 0,
   "metadata": {
    "application/vnd.databricks.v1+cell": {
     "cellMetadata": {
      "byteLimit": 2048000,
      "rowLimit": 10000
     },
     "inputWidgets": {},
     "nuid": "a9868a79-0e42-4ad6-a677-227639d822a0",
     "showTitle": false,
     "tableResultSettingsMap": {},
     "title": ""
    }
   },
   "outputs": [],
   "source": [
    "# Split 80/20 train-test\n",
    "X_train, X_test, y_train, y_test = sklearn.model_selection.train_test_split(\n",
    "  df_pd,\n",
    "  data_labels,\n",
    "  test_size=0.2,\n",
    "  random_state=1\n",
    ")"
   ]
  },
  {
   "cell_type": "code",
   "execution_count": 0,
   "metadata": {
    "application/vnd.databricks.v1+cell": {
     "cellMetadata": {
      "byteLimit": 2048000,
      "rowLimit": 10000
     },
     "inputWidgets": {},
     "nuid": "63fb8bb7-9b25-42b9-a8cd-a8c1a652a088",
     "showTitle": false,
     "tableResultSettingsMap": {},
     "title": ""
    }
   },
   "outputs": [
    {
     "output_type": "stream",
     "name": "stderr",
     "output_type": "stream",
     "text": [
      "2025/07/05 13:44:54 INFO mlflow.tracking.fluent: Autologging successfully enabled for sklearn.\n2025/07/05 13:44:54 WARNING mlflow.spark: With Pyspark >= 3.2, PYSPARK_PIN_THREAD environment variable must be set to false for Spark datasource autologging to work.\n2025/07/05 13:44:54 WARNING mlflow.tracking.fluent: Exception raised while enabling autologging for pyspark: [JVM_ATTRIBUTE_NOT_SUPPORTED] Attribute `sparkContext` is not supported in Spark Connect as it depends on the JVM. If you need to use this attribute, do not use Spark Connect when creating your session. Visit https://spark.apache.org/docs/latest/sql-getting-started.html#starting-point-sparksession for creating regular Spark Session in detail.\n2025/07/05 13:44:54 WARNING mlflow.tracking.fluent: Exception raised while enabling autologging for pyspark.ml: [JVM_ATTRIBUTE_NOT_SUPPORTED] Attribute `sparkContext` is not supported in Spark Connect as it depends on the JVM. If you need to use this attribute, do not use Spark Connect when creating your session. Visit https://spark.apache.org/docs/latest/sql-getting-started.html#starting-point-sparksession for creating regular Spark Session in detail.\n"
     ]
    }
   ],
   "source": [
    "mlflow.autolog()"
   ]
  },
  {
   "cell_type": "code",
   "execution_count": 0,
   "metadata": {
    "application/vnd.databricks.v1+cell": {
     "cellMetadata": {
      "byteLimit": 2048000,
      "rowLimit": 10000
     },
     "inputWidgets": {},
     "nuid": "d233c1bb-e5aa-4861-81f2-0567fcd848b6",
     "showTitle": false,
     "tableResultSettingsMap": {},
     "title": ""
    }
   },
   "outputs": [
    {
     "output_type": "stream",
     "name": "stderr",
     "output_type": "stream",
     "text": [
      "2025/07/05 13:44:56 INFO mlflow.utils.credentials: Successfully connected to MLflow hosted tracking server! Host: https://dbc-499a9713-b50f.cloud.databricks.com.\n/databricks/python/lib/python3.11/site-packages/databricks/connect/session.py:391: UserWarning: Ignoring the default notebook Spark session and creating a new Spark Connect session. To use the default notebook Spark session, use DatabricksSession.builder.getOrCreate() with no additional parameters.\n  warnings.warn(new_notebook_session_msg)\n"
     ]
    },
    {
     "output_type": "stream",
     "name": "stdout",
     "output_type": "stream",
     "text": [
      "\r  0%|          | 0/32 [00:00<?, ?trial/s, best loss=?]"
     ]
    },
    {
     "output_type": "display_data",
     "data": {
      "application/vnd.jupyter.widget-view+json": {
       "model_id": "0aab7f6f0cdd4b248f091c96176ee0ea",
       "version_major": 2,
       "version_minor": 0
      },
      "text/plain": [
       "Uploading artifacts:   0%|          | 0/3 [00:00<?, ?it/s]"
      ]
     },
     "metadata": {},
     "output_type": "display_data"
    },
    {
     "output_type": "display_data",
     "data": {
      "application/vnd.jupyter.widget-view+json": {
       "model_id": "74b703f31b2d465593f45dd585cb35e2",
       "version_major": 2,
       "version_minor": 0
      },
      "text/plain": [
       "Uploading artifacts:   0%|          | 0/9 [00:00<?, ?it/s]"
      ]
     },
     "metadata": {},
     "output_type": "display_data"
    },
    {
     "output_type": "stream",
     "name": "stderr",
     "output_type": "stream",
     "text": [
      "2025/07/05 13:45:13 WARNING mlflow.models.model: Model logged without a signature. Signatures will be required for upcoming model registry features as they validate model inputs and denote the expected schema of model outputs. Please visit https://www.mlflow.org/docs/2.11.4/models.html#set-signature-on-logged-model for instructions on setting a model signature on your logged model.\n\n"
     ]
    },
    {
     "output_type": "display_data",
     "data": {
      "application/vnd.jupyter.widget-view+json": {
       "model_id": "effc399281814438a56cb7c4ba99022c",
       "version_major": 2,
       "version_minor": 0
      },
      "text/plain": [
       "Uploading artifacts:   0%|          | 0/9 [00:00<?, ?it/s]"
      ]
     },
     "metadata": {},
     "output_type": "display_data"
    },
    {
     "output_type": "stream",
     "name": "stdout",
     "output_type": "stream",
     "text": [
      "\r  3%|▎         | 1/32 [00:16<08:38, 16.71s/trial, best loss: -1.0]"
     ]
    },
    {
     "output_type": "display_data",
     "data": {
      "application/vnd.jupyter.widget-view+json": {
       "model_id": "190081c433f14c5486b164c019fc3be8",
       "version_major": 2,
       "version_minor": 0
      },
      "text/plain": [
       "Uploading artifacts:   0%|          | 0/3 [00:00<?, ?it/s]"
      ]
     },
     "metadata": {},
     "output_type": "display_data"
    },
    {
     "output_type": "display_data",
     "data": {
      "application/vnd.jupyter.widget-view+json": {
       "model_id": "a430b5c077a445c784f9fc8be3695c5a",
       "version_major": 2,
       "version_minor": 0
      },
      "text/plain": [
       "Uploading artifacts:   0%|          | 0/9 [00:00<?, ?it/s]"
      ]
     },
     "metadata": {},
     "output_type": "display_data"
    },
    {
     "output_type": "stream",
     "name": "stderr",
     "output_type": "stream",
     "text": [
      "2025/07/05 13:45:20 WARNING mlflow.models.model: Model logged without a signature. Signatures will be required for upcoming model registry features as they validate model inputs and denote the expected schema of model outputs. Please visit https://www.mlflow.org/docs/2.11.4/models.html#set-signature-on-logged-model for instructions on setting a model signature on your logged model.\n\n"
     ]
    },
    {
     "output_type": "display_data",
     "data": {
      "application/vnd.jupyter.widget-view+json": {
       "model_id": "dc4c3b71e7684e7c82ec9f7904b0ad97",
       "version_major": 2,
       "version_minor": 0
      },
      "text/plain": [
       "Uploading artifacts:   0%|          | 0/9 [00:00<?, ?it/s]"
      ]
     },
     "metadata": {},
     "output_type": "display_data"
    },
    {
     "output_type": "stream",
     "name": "stdout",
     "output_type": "stream",
     "text": [
      "\r  6%|▋         | 2/32 [00:24<05:39, 11.33s/trial, best loss: -1.0]"
     ]
    },
    {
     "output_type": "display_data",
     "data": {
      "application/vnd.jupyter.widget-view+json": {
       "model_id": "73961c58103f45e7991349daa0753706",
       "version_major": 2,
       "version_minor": 0
      },
      "text/plain": [
       "Uploading artifacts:   0%|          | 0/3 [00:00<?, ?it/s]"
      ]
     },
     "metadata": {},
     "output_type": "display_data"
    },
    {
     "output_type": "display_data",
     "data": {
      "application/vnd.jupyter.widget-view+json": {
       "model_id": "051fc00c2e1c402fb192067514f318d4",
       "version_major": 2,
       "version_minor": 0
      },
      "text/plain": [
       "Uploading artifacts:   0%|          | 0/9 [00:00<?, ?it/s]"
      ]
     },
     "metadata": {},
     "output_type": "display_data"
    },
    {
     "output_type": "stream",
     "name": "stderr",
     "output_type": "stream",
     "text": [
      "2025/07/05 13:45:29 WARNING mlflow.models.model: Model logged without a signature. Signatures will be required for upcoming model registry features as they validate model inputs and denote the expected schema of model outputs. Please visit https://www.mlflow.org/docs/2.11.4/models.html#set-signature-on-logged-model for instructions on setting a model signature on your logged model.\n\n"
     ]
    },
    {
     "output_type": "display_data",
     "data": {
      "application/vnd.jupyter.widget-view+json": {
       "model_id": "e3bc32151562486f98d46fb7aff8e7ea",
       "version_major": 2,
       "version_minor": 0
      },
      "text/plain": [
       "Uploading artifacts:   0%|          | 0/9 [00:00<?, ?it/s]"
      ]
     },
     "metadata": {},
     "output_type": "display_data"
    },
    {
     "output_type": "stream",
     "name": "stdout",
     "output_type": "stream",
     "text": [
      "\r  9%|▉         | 3/32 [00:32<04:52, 10.09s/trial, best loss: -1.0]"
     ]
    },
    {
     "output_type": "display_data",
     "data": {
      "application/vnd.jupyter.widget-view+json": {
       "model_id": "64e6ace78f67440a8fe59fe2f0c8c40e",
       "version_major": 2,
       "version_minor": 0
      },
      "text/plain": [
       "Uploading artifacts:   0%|          | 0/3 [00:00<?, ?it/s]"
      ]
     },
     "metadata": {},
     "output_type": "display_data"
    },
    {
     "output_type": "display_data",
     "data": {
      "application/vnd.jupyter.widget-view+json": {
       "model_id": "028de5c9343a4100800f538615d2519d",
       "version_major": 2,
       "version_minor": 0
      },
      "text/plain": [
       "Uploading artifacts:   0%|          | 0/9 [00:00<?, ?it/s]"
      ]
     },
     "metadata": {},
     "output_type": "display_data"
    },
    {
     "output_type": "stream",
     "name": "stderr",
     "output_type": "stream",
     "text": [
      "2025/07/05 13:45:37 WARNING mlflow.models.model: Model logged without a signature. Signatures will be required for upcoming model registry features as they validate model inputs and denote the expected schema of model outputs. Please visit https://www.mlflow.org/docs/2.11.4/models.html#set-signature-on-logged-model for instructions on setting a model signature on your logged model.\n\n"
     ]
    },
    {
     "output_type": "display_data",
     "data": {
      "application/vnd.jupyter.widget-view+json": {
       "model_id": "d941c617f4884588b2e76756c5ebd428",
       "version_major": 2,
       "version_minor": 0
      },
      "text/plain": [
       "Uploading artifacts:   0%|          | 0/9 [00:00<?, ?it/s]"
      ]
     },
     "metadata": {},
     "output_type": "display_data"
    },
    {
     "output_type": "stream",
     "name": "stdout",
     "output_type": "stream",
     "text": [
      "\r 12%|█▎        | 4/32 [00:40<04:15,  9.12s/trial, best loss: -1.0]"
     ]
    },
    {
     "output_type": "display_data",
     "data": {
      "application/vnd.jupyter.widget-view+json": {
       "model_id": "6b096ca605d44bb7b7c515aa447dfce6",
       "version_major": 2,
       "version_minor": 0
      },
      "text/plain": [
       "Uploading artifacts:   0%|          | 0/3 [00:00<?, ?it/s]"
      ]
     },
     "metadata": {},
     "output_type": "display_data"
    },
    {
     "output_type": "display_data",
     "data": {
      "application/vnd.jupyter.widget-view+json": {
       "model_id": "d3af6e6c1f6f40b9adf71cef96a27dd5",
       "version_major": 2,
       "version_minor": 0
      },
      "text/plain": [
       "Uploading artifacts:   0%|          | 0/9 [00:00<?, ?it/s]"
      ]
     },
     "metadata": {},
     "output_type": "display_data"
    },
    {
     "output_type": "stream",
     "name": "stderr",
     "output_type": "stream",
     "text": [
      "2025/07/05 13:45:44 WARNING mlflow.models.model: Model logged without a signature. Signatures will be required for upcoming model registry features as they validate model inputs and denote the expected schema of model outputs. Please visit https://www.mlflow.org/docs/2.11.4/models.html#set-signature-on-logged-model for instructions on setting a model signature on your logged model.\n\n"
     ]
    },
    {
     "output_type": "display_data",
     "data": {
      "application/vnd.jupyter.widget-view+json": {
       "model_id": "973481df2b5848ec92c350611cabc6dc",
       "version_major": 2,
       "version_minor": 0
      },
      "text/plain": [
       "Uploading artifacts:   0%|          | 0/9 [00:00<?, ?it/s]"
      ]
     },
     "metadata": {},
     "output_type": "display_data"
    },
    {
     "output_type": "stream",
     "name": "stdout",
     "output_type": "stream",
     "text": [
      "\r 16%|█▌        | 5/32 [00:47<03:46,  8.41s/trial, best loss: -1.0]"
     ]
    },
    {
     "output_type": "display_data",
     "data": {
      "application/vnd.jupyter.widget-view+json": {
       "model_id": "b1cb8e56c8a1493398cf474d41053dc0",
       "version_major": 2,
       "version_minor": 0
      },
      "text/plain": [
       "Uploading artifacts:   0%|          | 0/3 [00:00<?, ?it/s]"
      ]
     },
     "metadata": {},
     "output_type": "display_data"
    },
    {
     "output_type": "display_data",
     "data": {
      "application/vnd.jupyter.widget-view+json": {
       "model_id": "9991d8fee70f4a8aaa15212dc30f6759",
       "version_major": 2,
       "version_minor": 0
      },
      "text/plain": [
       "Uploading artifacts:   0%|          | 0/9 [00:00<?, ?it/s]"
      ]
     },
     "metadata": {},
     "output_type": "display_data"
    },
    {
     "output_type": "stream",
     "name": "stderr",
     "output_type": "stream",
     "text": [
      "2025/07/05 13:45:52 WARNING mlflow.models.model: Model logged without a signature. Signatures will be required for upcoming model registry features as they validate model inputs and denote the expected schema of model outputs. Please visit https://www.mlflow.org/docs/2.11.4/models.html#set-signature-on-logged-model for instructions on setting a model signature on your logged model.\n\n"
     ]
    },
    {
     "output_type": "display_data",
     "data": {
      "application/vnd.jupyter.widget-view+json": {
       "model_id": "469b897cc03e4439b090a277cf4187ff",
       "version_major": 2,
       "version_minor": 0
      },
      "text/plain": [
       "Uploading artifacts:   0%|          | 0/9 [00:00<?, ?it/s]"
      ]
     },
     "metadata": {},
     "output_type": "display_data"
    },
    {
     "output_type": "stream",
     "name": "stdout",
     "output_type": "stream",
     "text": [
      "\r 19%|█▉        | 6/32 [00:55<03:35,  8.28s/trial, best loss: -1.0]"
     ]
    },
    {
     "output_type": "display_data",
     "data": {
      "application/vnd.jupyter.widget-view+json": {
       "model_id": "e9621b628687437d9d8a7d3f39a14ef3",
       "version_major": 2,
       "version_minor": 0
      },
      "text/plain": [
       "Uploading artifacts:   0%|          | 0/3 [00:00<?, ?it/s]"
      ]
     },
     "metadata": {},
     "output_type": "display_data"
    },
    {
     "output_type": "display_data",
     "data": {
      "application/vnd.jupyter.widget-view+json": {
       "model_id": "e7893ea190f040cc9fa733faeb677f58",
       "version_major": 2,
       "version_minor": 0
      },
      "text/plain": [
       "Uploading artifacts:   0%|          | 0/9 [00:00<?, ?it/s]"
      ]
     },
     "metadata": {},
     "output_type": "display_data"
    },
    {
     "output_type": "stream",
     "name": "stderr",
     "output_type": "stream",
     "text": [
      "2025/07/05 13:46:00 WARNING mlflow.models.model: Model logged without a signature. Signatures will be required for upcoming model registry features as they validate model inputs and denote the expected schema of model outputs. Please visit https://www.mlflow.org/docs/2.11.4/models.html#set-signature-on-logged-model for instructions on setting a model signature on your logged model.\n\n"
     ]
    },
    {
     "output_type": "display_data",
     "data": {
      "application/vnd.jupyter.widget-view+json": {
       "model_id": "a12734e07e3f4824b15cc64a3920dfde",
       "version_major": 2,
       "version_minor": 0
      },
      "text/plain": [
       "Uploading artifacts:   0%|          | 0/9 [00:00<?, ?it/s]"
      ]
     },
     "metadata": {},
     "output_type": "display_data"
    },
    {
     "output_type": "stream",
     "name": "stdout",
     "output_type": "stream",
     "text": [
      "\r 22%|██▏       | 7/32 [01:03<03:24,  8.17s/trial, best loss: -1.0]"
     ]
    },
    {
     "output_type": "display_data",
     "data": {
      "application/vnd.jupyter.widget-view+json": {
       "model_id": "f891112e6b7f4d139ade7088c5783163",
       "version_major": 2,
       "version_minor": 0
      },
      "text/plain": [
       "Uploading artifacts:   0%|          | 0/3 [00:00<?, ?it/s]"
      ]
     },
     "metadata": {},
     "output_type": "display_data"
    },
    {
     "output_type": "display_data",
     "data": {
      "application/vnd.jupyter.widget-view+json": {
       "model_id": "58eb1781304b41f58f4d849e9617708c",
       "version_major": 2,
       "version_minor": 0
      },
      "text/plain": [
       "Uploading artifacts:   0%|          | 0/9 [00:00<?, ?it/s]"
      ]
     },
     "metadata": {},
     "output_type": "display_data"
    },
    {
     "output_type": "stream",
     "name": "stderr",
     "output_type": "stream",
     "text": [
      "2025/07/05 13:46:07 WARNING mlflow.models.model: Model logged without a signature. Signatures will be required for upcoming model registry features as they validate model inputs and denote the expected schema of model outputs. Please visit https://www.mlflow.org/docs/2.11.4/models.html#set-signature-on-logged-model for instructions on setting a model signature on your logged model.\n\n"
     ]
    },
    {
     "output_type": "display_data",
     "data": {
      "application/vnd.jupyter.widget-view+json": {
       "model_id": "fe2d6208d2464e279c67c2a9ff6651b3",
       "version_major": 2,
       "version_minor": 0
      },
      "text/plain": [
       "Uploading artifacts:   0%|          | 0/9 [00:00<?, ?it/s]"
      ]
     },
     "metadata": {},
     "output_type": "display_data"
    },
    {
     "output_type": "stream",
     "name": "stdout",
     "output_type": "stream",
     "text": [
      "\r 25%|██▌       | 8/32 [01:11<03:11,  7.96s/trial, best loss: -1.0]"
     ]
    },
    {
     "output_type": "display_data",
     "data": {
      "application/vnd.jupyter.widget-view+json": {
       "model_id": "4771b067f9d84c3c89037431c00d6c7a",
       "version_major": 2,
       "version_minor": 0
      },
      "text/plain": [
       "Uploading artifacts:   0%|          | 0/3 [00:00<?, ?it/s]"
      ]
     },
     "metadata": {},
     "output_type": "display_data"
    },
    {
     "output_type": "display_data",
     "data": {
      "application/vnd.jupyter.widget-view+json": {
       "model_id": "9da6e87d3dd24ac1a0421d8de937b7d2",
       "version_major": 2,
       "version_minor": 0
      },
      "text/plain": [
       "Uploading artifacts:   0%|          | 0/9 [00:00<?, ?it/s]"
      ]
     },
     "metadata": {},
     "output_type": "display_data"
    },
    {
     "output_type": "stream",
     "name": "stderr",
     "output_type": "stream",
     "text": [
      "2025/07/05 13:46:14 WARNING mlflow.models.model: Model logged without a signature. Signatures will be required for upcoming model registry features as they validate model inputs and denote the expected schema of model outputs. Please visit https://www.mlflow.org/docs/2.11.4/models.html#set-signature-on-logged-model for instructions on setting a model signature on your logged model.\n\n"
     ]
    },
    {
     "output_type": "display_data",
     "data": {
      "application/vnd.jupyter.widget-view+json": {
       "model_id": "f80274f38aa44c12a89c7b3a9ee20375",
       "version_major": 2,
       "version_minor": 0
      },
      "text/plain": [
       "Uploading artifacts:   0%|          | 0/9 [00:00<?, ?it/s]"
      ]
     },
     "metadata": {},
     "output_type": "display_data"
    },
    {
     "output_type": "stream",
     "name": "stdout",
     "output_type": "stream",
     "text": [
      "\r 28%|██▊       | 9/32 [01:18<02:57,  7.72s/trial, best loss: -1.0]"
     ]
    },
    {
     "output_type": "display_data",
     "data": {
      "application/vnd.jupyter.widget-view+json": {
       "model_id": "33419d8583c14ab1a51ca0696bd157f3",
       "version_major": 2,
       "version_minor": 0
      },
      "text/plain": [
       "Uploading artifacts:   0%|          | 0/3 [00:00<?, ?it/s]"
      ]
     },
     "metadata": {},
     "output_type": "display_data"
    },
    {
     "output_type": "display_data",
     "data": {
      "application/vnd.jupyter.widget-view+json": {
       "model_id": "0627fb4943e44ff68146e400680f111f",
       "version_major": 2,
       "version_minor": 0
      },
      "text/plain": [
       "Uploading artifacts:   0%|          | 0/9 [00:00<?, ?it/s]"
      ]
     },
     "metadata": {},
     "output_type": "display_data"
    },
    {
     "output_type": "stream",
     "name": "stderr",
     "output_type": "stream",
     "text": [
      "2025/07/05 13:46:22 WARNING mlflow.models.model: Model logged without a signature. Signatures will be required for upcoming model registry features as they validate model inputs and denote the expected schema of model outputs. Please visit https://www.mlflow.org/docs/2.11.4/models.html#set-signature-on-logged-model for instructions on setting a model signature on your logged model.\n\n"
     ]
    },
    {
     "output_type": "display_data",
     "data": {
      "application/vnd.jupyter.widget-view+json": {
       "model_id": "afa99dcef63f49a9b195720c4bf10f47",
       "version_major": 2,
       "version_minor": 0
      },
      "text/plain": [
       "Uploading artifacts:   0%|          | 0/9 [00:00<?, ?it/s]"
      ]
     },
     "metadata": {},
     "output_type": "display_data"
    },
    {
     "output_type": "stream",
     "name": "stdout",
     "output_type": "stream",
     "text": [
      "\r 31%|███▏      | 10/32 [01:26<02:50,  7.77s/trial, best loss: -1.0]"
     ]
    },
    {
     "output_type": "display_data",
     "data": {
      "application/vnd.jupyter.widget-view+json": {
       "model_id": "da04cebdcf0c4e6fb0f355d0384863a3",
       "version_major": 2,
       "version_minor": 0
      },
      "text/plain": [
       "Uploading artifacts:   0%|          | 0/3 [00:00<?, ?it/s]"
      ]
     },
     "metadata": {},
     "output_type": "display_data"
    },
    {
     "output_type": "display_data",
     "data": {
      "application/vnd.jupyter.widget-view+json": {
       "model_id": "24f6d5d32c754defa90382325a0dd2c6",
       "version_major": 2,
       "version_minor": 0
      },
      "text/plain": [
       "Uploading artifacts:   0%|          | 0/9 [00:00<?, ?it/s]"
      ]
     },
     "metadata": {},
     "output_type": "display_data"
    },
    {
     "output_type": "stream",
     "name": "stderr",
     "output_type": "stream",
     "text": [
      "2025/07/05 13:46:33 WARNING mlflow.models.model: Model logged without a signature. Signatures will be required for upcoming model registry features as they validate model inputs and denote the expected schema of model outputs. Please visit https://www.mlflow.org/docs/2.11.4/models.html#set-signature-on-logged-model for instructions on setting a model signature on your logged model.\n\n"
     ]
    },
    {
     "output_type": "display_data",
     "data": {
      "application/vnd.jupyter.widget-view+json": {
       "model_id": "9a9c303491c243b2ae1298e2f43c1fa0",
       "version_major": 2,
       "version_minor": 0
      },
      "text/plain": [
       "Uploading artifacts:   0%|          | 0/9 [00:00<?, ?it/s]"
      ]
     },
     "metadata": {},
     "output_type": "display_data"
    },
    {
     "output_type": "stream",
     "name": "stdout",
     "output_type": "stream",
     "text": [
      "\r 34%|███▍      | 11/32 [01:37<03:02,  8.70s/trial, best loss: -1.0]"
     ]
    },
    {
     "output_type": "display_data",
     "data": {
      "application/vnd.jupyter.widget-view+json": {
       "model_id": "16c2c4478f9d4d8d96632fe48894650f",
       "version_major": 2,
       "version_minor": 0
      },
      "text/plain": [
       "Uploading artifacts:   0%|          | 0/3 [00:00<?, ?it/s]"
      ]
     },
     "metadata": {},
     "output_type": "display_data"
    },
    {
     "output_type": "display_data",
     "data": {
      "application/vnd.jupyter.widget-view+json": {
       "model_id": "a17d52081fa943c188eccc164d6715cb",
       "version_major": 2,
       "version_minor": 0
      },
      "text/plain": [
       "Uploading artifacts:   0%|          | 0/9 [00:00<?, ?it/s]"
      ]
     },
     "metadata": {},
     "output_type": "display_data"
    },
    {
     "output_type": "stream",
     "name": "stderr",
     "output_type": "stream",
     "text": [
      "2025/07/05 13:46:40 WARNING mlflow.models.model: Model logged without a signature. Signatures will be required for upcoming model registry features as they validate model inputs and denote the expected schema of model outputs. Please visit https://www.mlflow.org/docs/2.11.4/models.html#set-signature-on-logged-model for instructions on setting a model signature on your logged model.\n\n"
     ]
    },
    {
     "output_type": "display_data",
     "data": {
      "application/vnd.jupyter.widget-view+json": {
       "model_id": "889c41849d76402eac598bc3c301a7b3",
       "version_major": 2,
       "version_minor": 0
      },
      "text/plain": [
       "Uploading artifacts:   0%|          | 0/9 [00:00<?, ?it/s]"
      ]
     },
     "metadata": {},
     "output_type": "display_data"
    },
    {
     "output_type": "stream",
     "name": "stdout",
     "output_type": "stream",
     "text": [
      "\r 38%|███▊      | 12/32 [01:44<02:45,  8.27s/trial, best loss: -1.0]"
     ]
    },
    {
     "output_type": "display_data",
     "data": {
      "application/vnd.jupyter.widget-view+json": {
       "model_id": "98646e5ac88443429f22b6e7740dd1ee",
       "version_major": 2,
       "version_minor": 0
      },
      "text/plain": [
       "Uploading artifacts:   0%|          | 0/3 [00:00<?, ?it/s]"
      ]
     },
     "metadata": {},
     "output_type": "display_data"
    },
    {
     "output_type": "display_data",
     "data": {
      "application/vnd.jupyter.widget-view+json": {
       "model_id": "49200767797148d79d2dcd1dea18fff5",
       "version_major": 2,
       "version_minor": 0
      },
      "text/plain": [
       "Uploading artifacts:   0%|          | 0/9 [00:00<?, ?it/s]"
      ]
     },
     "metadata": {},
     "output_type": "display_data"
    },
    {
     "output_type": "stream",
     "name": "stderr",
     "output_type": "stream",
     "text": [
      "2025/07/05 13:46:47 WARNING mlflow.models.model: Model logged without a signature. Signatures will be required for upcoming model registry features as they validate model inputs and denote the expected schema of model outputs. Please visit https://www.mlflow.org/docs/2.11.4/models.html#set-signature-on-logged-model for instructions on setting a model signature on your logged model.\n\n"
     ]
    },
    {
     "output_type": "display_data",
     "data": {
      "application/vnd.jupyter.widget-view+json": {
       "model_id": "f176009c04bc409f964563aeaaef8d4b",
       "version_major": 2,
       "version_minor": 0
      },
      "text/plain": [
       "Uploading artifacts:   0%|          | 0/9 [00:00<?, ?it/s]"
      ]
     },
     "metadata": {},
     "output_type": "display_data"
    },
    {
     "output_type": "stream",
     "name": "stdout",
     "output_type": "stream",
     "text": [
      "\r 41%|████      | 13/32 [01:50<02:27,  7.75s/trial, best loss: -1.0]"
     ]
    },
    {
     "output_type": "display_data",
     "data": {
      "application/vnd.jupyter.widget-view+json": {
       "model_id": "219f0629a5a94fe7add10ed4ca54e88c",
       "version_major": 2,
       "version_minor": 0
      },
      "text/plain": [
       "Uploading artifacts:   0%|          | 0/3 [00:00<?, ?it/s]"
      ]
     },
     "metadata": {},
     "output_type": "display_data"
    },
    {
     "output_type": "display_data",
     "data": {
      "application/vnd.jupyter.widget-view+json": {
       "model_id": "423a2c73fed1434b81196192c7efca9a",
       "version_major": 2,
       "version_minor": 0
      },
      "text/plain": [
       "Uploading artifacts:   0%|          | 0/9 [00:00<?, ?it/s]"
      ]
     },
     "metadata": {},
     "output_type": "display_data"
    },
    {
     "output_type": "stream",
     "name": "stderr",
     "output_type": "stream",
     "text": [
      "2025/07/05 13:46:54 WARNING mlflow.models.model: Model logged without a signature. Signatures will be required for upcoming model registry features as they validate model inputs and denote the expected schema of model outputs. Please visit https://www.mlflow.org/docs/2.11.4/models.html#set-signature-on-logged-model for instructions on setting a model signature on your logged model.\n\n"
     ]
    },
    {
     "output_type": "display_data",
     "data": {
      "application/vnd.jupyter.widget-view+json": {
       "model_id": "7ad20a4ab1b446e48bbcc4e74578dc1e",
       "version_major": 2,
       "version_minor": 0
      },
      "text/plain": [
       "Uploading artifacts:   0%|          | 0/9 [00:00<?, ?it/s]"
      ]
     },
     "metadata": {},
     "output_type": "display_data"
    },
    {
     "output_type": "stream",
     "name": "stdout",
     "output_type": "stream",
     "text": [
      "\r 44%|████▍     | 14/32 [01:57<02:15,  7.53s/trial, best loss: -1.0]"
     ]
    },
    {
     "output_type": "display_data",
     "data": {
      "application/vnd.jupyter.widget-view+json": {
       "model_id": "4b454a12a0be49ab9a97932789bff9c2",
       "version_major": 2,
       "version_minor": 0
      },
      "text/plain": [
       "Uploading artifacts:   0%|          | 0/3 [00:00<?, ?it/s]"
      ]
     },
     "metadata": {},
     "output_type": "display_data"
    },
    {
     "output_type": "display_data",
     "data": {
      "application/vnd.jupyter.widget-view+json": {
       "model_id": "6b4fd7d35bd1477bb98bd4ce204c816f",
       "version_major": 2,
       "version_minor": 0
      },
      "text/plain": [
       "Uploading artifacts:   0%|          | 0/9 [00:00<?, ?it/s]"
      ]
     },
     "metadata": {},
     "output_type": "display_data"
    },
    {
     "output_type": "stream",
     "name": "stderr",
     "output_type": "stream",
     "text": [
      "2025/07/05 13:47:01 WARNING mlflow.models.model: Model logged without a signature. Signatures will be required for upcoming model registry features as they validate model inputs and denote the expected schema of model outputs. Please visit https://www.mlflow.org/docs/2.11.4/models.html#set-signature-on-logged-model for instructions on setting a model signature on your logged model.\n\n"
     ]
    },
    {
     "output_type": "display_data",
     "data": {
      "application/vnd.jupyter.widget-view+json": {
       "model_id": "dde480f407ec4c5ea0ec962376627094",
       "version_major": 2,
       "version_minor": 0
      },
      "text/plain": [
       "Uploading artifacts:   0%|          | 0/9 [00:00<?, ?it/s]"
      ]
     },
     "metadata": {},
     "output_type": "display_data"
    },
    {
     "output_type": "stream",
     "name": "stdout",
     "output_type": "stream",
     "text": [
      "\r 47%|████▋     | 15/32 [02:04<02:04,  7.35s/trial, best loss: -1.0]"
     ]
    },
    {
     "output_type": "display_data",
     "data": {
      "application/vnd.jupyter.widget-view+json": {
       "model_id": "cb7aeb1ad2f2438ea6bdb737b3bf166d",
       "version_major": 2,
       "version_minor": 0
      },
      "text/plain": [
       "Uploading artifacts:   0%|          | 0/3 [00:00<?, ?it/s]"
      ]
     },
     "metadata": {},
     "output_type": "display_data"
    },
    {
     "output_type": "display_data",
     "data": {
      "application/vnd.jupyter.widget-view+json": {
       "model_id": "320327ce0bf34cdb84d38792ad3b15ee",
       "version_major": 2,
       "version_minor": 0
      },
      "text/plain": [
       "Uploading artifacts:   0%|          | 0/9 [00:00<?, ?it/s]"
      ]
     },
     "metadata": {},
     "output_type": "display_data"
    },
    {
     "output_type": "stream",
     "name": "stderr",
     "output_type": "stream",
     "text": [
      "2025/07/05 13:47:08 WARNING mlflow.models.model: Model logged without a signature. Signatures will be required for upcoming model registry features as they validate model inputs and denote the expected schema of model outputs. Please visit https://www.mlflow.org/docs/2.11.4/models.html#set-signature-on-logged-model for instructions on setting a model signature on your logged model.\n\n"
     ]
    },
    {
     "output_type": "display_data",
     "data": {
      "application/vnd.jupyter.widget-view+json": {
       "model_id": "2fc78111c85c4aad8e43e135e87d9d02",
       "version_major": 2,
       "version_minor": 0
      },
      "text/plain": [
       "Uploading artifacts:   0%|          | 0/9 [00:00<?, ?it/s]"
      ]
     },
     "metadata": {},
     "output_type": "display_data"
    },
    {
     "output_type": "stream",
     "name": "stdout",
     "output_type": "stream",
     "text": [
      "\r 50%|█████     | 16/32 [02:11<01:56,  7.28s/trial, best loss: -1.0]"
     ]
    },
    {
     "output_type": "display_data",
     "data": {
      "application/vnd.jupyter.widget-view+json": {
       "model_id": "973cc39764424d589079f48c5af5fe05",
       "version_major": 2,
       "version_minor": 0
      },
      "text/plain": [
       "Uploading artifacts:   0%|          | 0/3 [00:00<?, ?it/s]"
      ]
     },
     "metadata": {},
     "output_type": "display_data"
    },
    {
     "output_type": "display_data",
     "data": {
      "application/vnd.jupyter.widget-view+json": {
       "model_id": "2a5cfbc3915a4316abb675ae66098682",
       "version_major": 2,
       "version_minor": 0
      },
      "text/plain": [
       "Uploading artifacts:   0%|          | 0/9 [00:00<?, ?it/s]"
      ]
     },
     "metadata": {},
     "output_type": "display_data"
    },
    {
     "output_type": "stream",
     "name": "stderr",
     "output_type": "stream",
     "text": [
      "2025/07/05 13:47:15 WARNING mlflow.models.model: Model logged without a signature. Signatures will be required for upcoming model registry features as they validate model inputs and denote the expected schema of model outputs. Please visit https://www.mlflow.org/docs/2.11.4/models.html#set-signature-on-logged-model for instructions on setting a model signature on your logged model.\n\n"
     ]
    },
    {
     "output_type": "display_data",
     "data": {
      "application/vnd.jupyter.widget-view+json": {
       "model_id": "74da41d58a2a466bb9fd671666bbc929",
       "version_major": 2,
       "version_minor": 0
      },
      "text/plain": [
       "Uploading artifacts:   0%|          | 0/9 [00:00<?, ?it/s]"
      ]
     },
     "metadata": {},
     "output_type": "display_data"
    },
    {
     "output_type": "stream",
     "name": "stdout",
     "output_type": "stream",
     "text": [
      "\r 53%|█████▎    | 17/32 [02:18<01:46,  7.11s/trial, best loss: -1.0]"
     ]
    },
    {
     "output_type": "display_data",
     "data": {
      "application/vnd.jupyter.widget-view+json": {
       "model_id": "740e7d56a7864a608b54998387f806db",
       "version_major": 2,
       "version_minor": 0
      },
      "text/plain": [
       "Uploading artifacts:   0%|          | 0/3 [00:00<?, ?it/s]"
      ]
     },
     "metadata": {},
     "output_type": "display_data"
    },
    {
     "output_type": "display_data",
     "data": {
      "application/vnd.jupyter.widget-view+json": {
       "model_id": "0a6da9ceb02740f2a75ef2939655947c",
       "version_major": 2,
       "version_minor": 0
      },
      "text/plain": [
       "Uploading artifacts:   0%|          | 0/9 [00:00<?, ?it/s]"
      ]
     },
     "metadata": {},
     "output_type": "display_data"
    },
    {
     "output_type": "stream",
     "name": "stderr",
     "output_type": "stream",
     "text": [
      "2025/07/05 13:47:21 WARNING mlflow.models.model: Model logged without a signature. Signatures will be required for upcoming model registry features as they validate model inputs and denote the expected schema of model outputs. Please visit https://www.mlflow.org/docs/2.11.4/models.html#set-signature-on-logged-model for instructions on setting a model signature on your logged model.\n\n"
     ]
    },
    {
     "output_type": "display_data",
     "data": {
      "application/vnd.jupyter.widget-view+json": {
       "model_id": "db4e57af59f74dea9e57b9c90945b1ba",
       "version_major": 2,
       "version_minor": 0
      },
      "text/plain": [
       "Uploading artifacts:   0%|          | 0/9 [00:00<?, ?it/s]"
      ]
     },
     "metadata": {},
     "output_type": "display_data"
    },
    {
     "output_type": "stream",
     "name": "stdout",
     "output_type": "stream",
     "text": [
      "\r 56%|█████▋    | 18/32 [02:25<01:37,  6.97s/trial, best loss: -1.0]"
     ]
    },
    {
     "output_type": "display_data",
     "data": {
      "application/vnd.jupyter.widget-view+json": {
       "model_id": "7d1575a347754df891fb50ed1f09597b",
       "version_major": 2,
       "version_minor": 0
      },
      "text/plain": [
       "Uploading artifacts:   0%|          | 0/3 [00:00<?, ?it/s]"
      ]
     },
     "metadata": {},
     "output_type": "display_data"
    },
    {
     "output_type": "display_data",
     "data": {
      "application/vnd.jupyter.widget-view+json": {
       "model_id": "328843ab1106457bb0a2e8876ba6c73b",
       "version_major": 2,
       "version_minor": 0
      },
      "text/plain": [
       "Uploading artifacts:   0%|          | 0/9 [00:00<?, ?it/s]"
      ]
     },
     "metadata": {},
     "output_type": "display_data"
    },
    {
     "output_type": "stream",
     "name": "stderr",
     "output_type": "stream",
     "text": [
      "2025/07/05 13:47:29 WARNING mlflow.models.model: Model logged without a signature. Signatures will be required for upcoming model registry features as they validate model inputs and denote the expected schema of model outputs. Please visit https://www.mlflow.org/docs/2.11.4/models.html#set-signature-on-logged-model for instructions on setting a model signature on your logged model.\n\n"
     ]
    },
    {
     "output_type": "display_data",
     "data": {
      "application/vnd.jupyter.widget-view+json": {
       "model_id": "a529d4bb436440a3a6b7980e522a867c",
       "version_major": 2,
       "version_minor": 0
      },
      "text/plain": [
       "Uploading artifacts:   0%|          | 0/9 [00:00<?, ?it/s]"
      ]
     },
     "metadata": {},
     "output_type": "display_data"
    },
    {
     "output_type": "stream",
     "name": "stdout",
     "output_type": "stream",
     "text": [
      "\r 59%|█████▉    | 19/32 [02:33<01:33,  7.20s/trial, best loss: -1.0]"
     ]
    },
    {
     "output_type": "display_data",
     "data": {
      "application/vnd.jupyter.widget-view+json": {
       "model_id": "3e91a7e461324e498a69157e982494fe",
       "version_major": 2,
       "version_minor": 0
      },
      "text/plain": [
       "Uploading artifacts:   0%|          | 0/3 [00:00<?, ?it/s]"
      ]
     },
     "metadata": {},
     "output_type": "display_data"
    },
    {
     "output_type": "display_data",
     "data": {
      "application/vnd.jupyter.widget-view+json": {
       "model_id": "d6a2a916f3ec47eba1f58f6134dc9a8d",
       "version_major": 2,
       "version_minor": 0
      },
      "text/plain": [
       "Uploading artifacts:   0%|          | 0/9 [00:00<?, ?it/s]"
      ]
     },
     "metadata": {},
     "output_type": "display_data"
    },
    {
     "output_type": "stream",
     "name": "stderr",
     "output_type": "stream",
     "text": [
      "2025/07/05 13:47:36 WARNING mlflow.models.model: Model logged without a signature. Signatures will be required for upcoming model registry features as they validate model inputs and denote the expected schema of model outputs. Please visit https://www.mlflow.org/docs/2.11.4/models.html#set-signature-on-logged-model for instructions on setting a model signature on your logged model.\n\n"
     ]
    },
    {
     "output_type": "display_data",
     "data": {
      "application/vnd.jupyter.widget-view+json": {
       "model_id": "e70f9263a11e46c38ffc4481a80b2b0b",
       "version_major": 2,
       "version_minor": 0
      },
      "text/plain": [
       "Uploading artifacts:   0%|          | 0/9 [00:00<?, ?it/s]"
      ]
     },
     "metadata": {},
     "output_type": "display_data"
    },
    {
     "output_type": "stream",
     "name": "stdout",
     "output_type": "stream",
     "text": [
      "\r 62%|██████▎   | 20/32 [02:40<01:25,  7.16s/trial, best loss: -1.0]"
     ]
    },
    {
     "output_type": "display_data",
     "data": {
      "application/vnd.jupyter.widget-view+json": {
       "model_id": "700bba0fb7014dd59e94416f17ab4812",
       "version_major": 2,
       "version_minor": 0
      },
      "text/plain": [
       "Uploading artifacts:   0%|          | 0/3 [00:00<?, ?it/s]"
      ]
     },
     "metadata": {},
     "output_type": "display_data"
    },
    {
     "output_type": "display_data",
     "data": {
      "application/vnd.jupyter.widget-view+json": {
       "model_id": "ee678316475546459d3e064735910898",
       "version_major": 2,
       "version_minor": 0
      },
      "text/plain": [
       "Uploading artifacts:   0%|          | 0/9 [00:00<?, ?it/s]"
      ]
     },
     "metadata": {},
     "output_type": "display_data"
    },
    {
     "output_type": "stream",
     "name": "stderr",
     "output_type": "stream",
     "text": [
      "2025/07/05 13:47:43 WARNING mlflow.models.model: Model logged without a signature. Signatures will be required for upcoming model registry features as they validate model inputs and denote the expected schema of model outputs. Please visit https://www.mlflow.org/docs/2.11.4/models.html#set-signature-on-logged-model for instructions on setting a model signature on your logged model.\n\n"
     ]
    },
    {
     "output_type": "display_data",
     "data": {
      "application/vnd.jupyter.widget-view+json": {
       "model_id": "4f708353c43b4bfb802c23fd7c524df2",
       "version_major": 2,
       "version_minor": 0
      },
      "text/plain": [
       "Uploading artifacts:   0%|          | 0/9 [00:00<?, ?it/s]"
      ]
     },
     "metadata": {},
     "output_type": "display_data"
    },
    {
     "output_type": "stream",
     "name": "stdout",
     "output_type": "stream",
     "text": [
      "\r 66%|██████▌   | 21/32 [02:46<01:16,  7.00s/trial, best loss: -1.0]"
     ]
    },
    {
     "output_type": "display_data",
     "data": {
      "application/vnd.jupyter.widget-view+json": {
       "model_id": "ccf282efb1124febb811a55e272b2b6e",
       "version_major": 2,
       "version_minor": 0
      },
      "text/plain": [
       "Uploading artifacts:   0%|          | 0/3 [00:00<?, ?it/s]"
      ]
     },
     "metadata": {},
     "output_type": "display_data"
    },
    {
     "output_type": "display_data",
     "data": {
      "application/vnd.jupyter.widget-view+json": {
       "model_id": "1710223ec320450daf51f3963a24dc16",
       "version_major": 2,
       "version_minor": 0
      },
      "text/plain": [
       "Uploading artifacts:   0%|          | 0/9 [00:00<?, ?it/s]"
      ]
     },
     "metadata": {},
     "output_type": "display_data"
    },
    {
     "output_type": "stream",
     "name": "stderr",
     "output_type": "stream",
     "text": [
      "2025/07/05 13:47:50 WARNING mlflow.models.model: Model logged without a signature. Signatures will be required for upcoming model registry features as they validate model inputs and denote the expected schema of model outputs. Please visit https://www.mlflow.org/docs/2.11.4/models.html#set-signature-on-logged-model for instructions on setting a model signature on your logged model.\n\n"
     ]
    },
    {
     "output_type": "display_data",
     "data": {
      "application/vnd.jupyter.widget-view+json": {
       "model_id": "0e413c70139a4a7d9cef8f030dde072c",
       "version_major": 2,
       "version_minor": 0
      },
      "text/plain": [
       "Uploading artifacts:   0%|          | 0/9 [00:00<?, ?it/s]"
      ]
     },
     "metadata": {},
     "output_type": "display_data"
    },
    {
     "output_type": "stream",
     "name": "stdout",
     "output_type": "stream",
     "text": [
      "\r 69%|██████▉   | 22/32 [02:53<01:10,  7.05s/trial, best loss: -1.0]"
     ]
    },
    {
     "output_type": "display_data",
     "data": {
      "application/vnd.jupyter.widget-view+json": {
       "model_id": "b07e9f2e5e624d509e4eda73f88ecc1c",
       "version_major": 2,
       "version_minor": 0
      },
      "text/plain": [
       "Uploading artifacts:   0%|          | 0/3 [00:00<?, ?it/s]"
      ]
     },
     "metadata": {},
     "output_type": "display_data"
    },
    {
     "output_type": "display_data",
     "data": {
      "application/vnd.jupyter.widget-view+json": {
       "model_id": "3b84f0e9b11c4c6492a992cd9883502c",
       "version_major": 2,
       "version_minor": 0
      },
      "text/plain": [
       "Uploading artifacts:   0%|          | 0/9 [00:00<?, ?it/s]"
      ]
     },
     "metadata": {},
     "output_type": "display_data"
    },
    {
     "output_type": "stream",
     "name": "stderr",
     "output_type": "stream",
     "text": [
      "2025/07/05 13:47:57 WARNING mlflow.models.model: Model logged without a signature. Signatures will be required for upcoming model registry features as they validate model inputs and denote the expected schema of model outputs. Please visit https://www.mlflow.org/docs/2.11.4/models.html#set-signature-on-logged-model for instructions on setting a model signature on your logged model.\n\n"
     ]
    },
    {
     "output_type": "display_data",
     "data": {
      "application/vnd.jupyter.widget-view+json": {
       "model_id": "4172f8f469c84a5da2cb70ad5483cb24",
       "version_major": 2,
       "version_minor": 0
      },
      "text/plain": [
       "Uploading artifacts:   0%|          | 0/9 [00:00<?, ?it/s]"
      ]
     },
     "metadata": {},
     "output_type": "display_data"
    },
    {
     "output_type": "stream",
     "name": "stdout",
     "output_type": "stream",
     "text": [
      "\r 72%|███████▏  | 23/32 [03:00<01:02,  6.99s/trial, best loss: -1.0]"
     ]
    },
    {
     "output_type": "display_data",
     "data": {
      "application/vnd.jupyter.widget-view+json": {
       "model_id": "41ecc2cef124462c84206ee1d57874a0",
       "version_major": 2,
       "version_minor": 0
      },
      "text/plain": [
       "Uploading artifacts:   0%|          | 0/3 [00:00<?, ?it/s]"
      ]
     },
     "metadata": {},
     "output_type": "display_data"
    },
    {
     "output_type": "display_data",
     "data": {
      "application/vnd.jupyter.widget-view+json": {
       "model_id": "ce53f389e841455c807bcd4a41b84bf3",
       "version_major": 2,
       "version_minor": 0
      },
      "text/plain": [
       "Uploading artifacts:   0%|          | 0/9 [00:00<?, ?it/s]"
      ]
     },
     "metadata": {},
     "output_type": "display_data"
    },
    {
     "output_type": "stream",
     "name": "stderr",
     "output_type": "stream",
     "text": [
      "2025/07/05 13:48:07 WARNING mlflow.models.model: Model logged without a signature. Signatures will be required for upcoming model registry features as they validate model inputs and denote the expected schema of model outputs. Please visit https://www.mlflow.org/docs/2.11.4/models.html#set-signature-on-logged-model for instructions on setting a model signature on your logged model.\n\n"
     ]
    },
    {
     "output_type": "display_data",
     "data": {
      "application/vnd.jupyter.widget-view+json": {
       "model_id": "0c7c11bed237489d8750635abaabf9cb",
       "version_major": 2,
       "version_minor": 0
      },
      "text/plain": [
       "Uploading artifacts:   0%|          | 0/9 [00:00<?, ?it/s]"
      ]
     },
     "metadata": {},
     "output_type": "display_data"
    },
    {
     "output_type": "stream",
     "name": "stdout",
     "output_type": "stream",
     "text": [
      "\r 75%|███████▌  | 24/32 [03:11<01:04,  8.03s/trial, best loss: -1.0]"
     ]
    },
    {
     "output_type": "display_data",
     "data": {
      "application/vnd.jupyter.widget-view+json": {
       "model_id": "4d793f4dabea4b7e99f733a2a778197d",
       "version_major": 2,
       "version_minor": 0
      },
      "text/plain": [
       "Uploading artifacts:   0%|          | 0/3 [00:00<?, ?it/s]"
      ]
     },
     "metadata": {},
     "output_type": "display_data"
    },
    {
     "output_type": "display_data",
     "data": {
      "application/vnd.jupyter.widget-view+json": {
       "model_id": "056b471a9a6c4a068a85e87b43c78f3b",
       "version_major": 2,
       "version_minor": 0
      },
      "text/plain": [
       "Uploading artifacts:   0%|          | 0/9 [00:00<?, ?it/s]"
      ]
     },
     "metadata": {},
     "output_type": "display_data"
    },
    {
     "output_type": "stream",
     "name": "stderr",
     "output_type": "stream",
     "text": [
      "2025/07/05 13:48:14 WARNING mlflow.models.model: Model logged without a signature. Signatures will be required for upcoming model registry features as they validate model inputs and denote the expected schema of model outputs. Please visit https://www.mlflow.org/docs/2.11.4/models.html#set-signature-on-logged-model for instructions on setting a model signature on your logged model.\n\n"
     ]
    },
    {
     "output_type": "display_data",
     "data": {
      "application/vnd.jupyter.widget-view+json": {
       "model_id": "d7f3d0b912f04c698fdf30113557946a",
       "version_major": 2,
       "version_minor": 0
      },
      "text/plain": [
       "Uploading artifacts:   0%|          | 0/9 [00:00<?, ?it/s]"
      ]
     },
     "metadata": {},
     "output_type": "display_data"
    },
    {
     "output_type": "stream",
     "name": "stdout",
     "output_type": "stream",
     "text": [
      "\r 78%|███████▊  | 25/32 [03:17<00:52,  7.55s/trial, best loss: -1.0]"
     ]
    },
    {
     "output_type": "display_data",
     "data": {
      "application/vnd.jupyter.widget-view+json": {
       "model_id": "880f1f0f14c44d5e9d1720c27d631e51",
       "version_major": 2,
       "version_minor": 0
      },
      "text/plain": [
       "Uploading artifacts:   0%|          | 0/3 [00:00<?, ?it/s]"
      ]
     },
     "metadata": {},
     "output_type": "display_data"
    },
    {
     "output_type": "display_data",
     "data": {
      "application/vnd.jupyter.widget-view+json": {
       "model_id": "92af3d60e5a14c05bd9f08a481dd1e14",
       "version_major": 2,
       "version_minor": 0
      },
      "text/plain": [
       "Uploading artifacts:   0%|          | 0/9 [00:00<?, ?it/s]"
      ]
     },
     "metadata": {},
     "output_type": "display_data"
    },
    {
     "output_type": "stream",
     "name": "stderr",
     "output_type": "stream",
     "text": [
      "2025/07/05 13:48:21 WARNING mlflow.models.model: Model logged without a signature. Signatures will be required for upcoming model registry features as they validate model inputs and denote the expected schema of model outputs. Please visit https://www.mlflow.org/docs/2.11.4/models.html#set-signature-on-logged-model for instructions on setting a model signature on your logged model.\n\n"
     ]
    },
    {
     "output_type": "display_data",
     "data": {
      "application/vnd.jupyter.widget-view+json": {
       "model_id": "bdea5dfe370540fcad9104070244e014",
       "version_major": 2,
       "version_minor": 0
      },
      "text/plain": [
       "Uploading artifacts:   0%|          | 0/9 [00:00<?, ?it/s]"
      ]
     },
     "metadata": {},
     "output_type": "display_data"
    },
    {
     "output_type": "stream",
     "name": "stdout",
     "output_type": "stream",
     "text": [
      "\r 81%|████████▏ | 26/32 [03:24<00:43,  7.30s/trial, best loss: -1.0]"
     ]
    },
    {
     "output_type": "display_data",
     "data": {
      "application/vnd.jupyter.widget-view+json": {
       "model_id": "aadc7a66953f4213a81e81d0c584538f",
       "version_major": 2,
       "version_minor": 0
      },
      "text/plain": [
       "Uploading artifacts:   0%|          | 0/3 [00:00<?, ?it/s]"
      ]
     },
     "metadata": {},
     "output_type": "display_data"
    },
    {
     "output_type": "display_data",
     "data": {
      "application/vnd.jupyter.widget-view+json": {
       "model_id": "b28b476cb6f443de814460c53aee370e",
       "version_major": 2,
       "version_minor": 0
      },
      "text/plain": [
       "Uploading artifacts:   0%|          | 0/9 [00:00<?, ?it/s]"
      ]
     },
     "metadata": {},
     "output_type": "display_data"
    },
    {
     "output_type": "stream",
     "name": "stderr",
     "output_type": "stream",
     "text": [
      "2025/07/05 13:48:27 WARNING mlflow.models.model: Model logged without a signature. Signatures will be required for upcoming model registry features as they validate model inputs and denote the expected schema of model outputs. Please visit https://www.mlflow.org/docs/2.11.4/models.html#set-signature-on-logged-model for instructions on setting a model signature on your logged model.\n\n"
     ]
    },
    {
     "output_type": "display_data",
     "data": {
      "application/vnd.jupyter.widget-view+json": {
       "model_id": "6b9db99c55df47f89de965c77d785925",
       "version_major": 2,
       "version_minor": 0
      },
      "text/plain": [
       "Uploading artifacts:   0%|          | 0/9 [00:00<?, ?it/s]"
      ]
     },
     "metadata": {},
     "output_type": "display_data"
    },
    {
     "output_type": "stream",
     "name": "stdout",
     "output_type": "stream",
     "text": [
      "\r 84%|████████▍ | 27/32 [03:30<00:35,  7.09s/trial, best loss: -1.0]"
     ]
    },
    {
     "output_type": "display_data",
     "data": {
      "application/vnd.jupyter.widget-view+json": {
       "model_id": "31deca7ece35465d9f78ba539fce41a5",
       "version_major": 2,
       "version_minor": 0
      },
      "text/plain": [
       "Uploading artifacts:   0%|          | 0/3 [00:00<?, ?it/s]"
      ]
     },
     "metadata": {},
     "output_type": "display_data"
    },
    {
     "output_type": "display_data",
     "data": {
      "application/vnd.jupyter.widget-view+json": {
       "model_id": "d8224a59ac0e454a8663dc5f16cf0329",
       "version_major": 2,
       "version_minor": 0
      },
      "text/plain": [
       "Uploading artifacts:   0%|          | 0/9 [00:00<?, ?it/s]"
      ]
     },
     "metadata": {},
     "output_type": "display_data"
    },
    {
     "output_type": "stream",
     "name": "stderr",
     "output_type": "stream",
     "text": [
      "2025/07/05 13:48:34 WARNING mlflow.models.model: Model logged without a signature. Signatures will be required for upcoming model registry features as they validate model inputs and denote the expected schema of model outputs. Please visit https://www.mlflow.org/docs/2.11.4/models.html#set-signature-on-logged-model for instructions on setting a model signature on your logged model.\n\n"
     ]
    },
    {
     "output_type": "display_data",
     "data": {
      "application/vnd.jupyter.widget-view+json": {
       "model_id": "a3f4ad511e0d4300a402a76ea5b2745c",
       "version_major": 2,
       "version_minor": 0
      },
      "text/plain": [
       "Uploading artifacts:   0%|          | 0/9 [00:00<?, ?it/s]"
      ]
     },
     "metadata": {},
     "output_type": "display_data"
    },
    {
     "output_type": "stream",
     "name": "stdout",
     "output_type": "stream",
     "text": [
      "\r 88%|████████▊ | 28/32 [03:37<00:27,  6.92s/trial, best loss: -1.0]"
     ]
    },
    {
     "output_type": "display_data",
     "data": {
      "application/vnd.jupyter.widget-view+json": {
       "model_id": "0e7dfb03461544769976d47589b4a059",
       "version_major": 2,
       "version_minor": 0
      },
      "text/plain": [
       "Uploading artifacts:   0%|          | 0/3 [00:00<?, ?it/s]"
      ]
     },
     "metadata": {},
     "output_type": "display_data"
    },
    {
     "output_type": "display_data",
     "data": {
      "application/vnd.jupyter.widget-view+json": {
       "model_id": "fa6ace88071e49c4a793a62cb91bbdc6",
       "version_major": 2,
       "version_minor": 0
      },
      "text/plain": [
       "Uploading artifacts:   0%|          | 0/9 [00:00<?, ?it/s]"
      ]
     },
     "metadata": {},
     "output_type": "display_data"
    },
    {
     "output_type": "stream",
     "name": "stderr",
     "output_type": "stream",
     "text": [
      "2025/07/05 13:48:41 WARNING mlflow.models.model: Model logged without a signature. Signatures will be required for upcoming model registry features as they validate model inputs and denote the expected schema of model outputs. Please visit https://www.mlflow.org/docs/2.11.4/models.html#set-signature-on-logged-model for instructions on setting a model signature on your logged model.\n\n"
     ]
    },
    {
     "output_type": "display_data",
     "data": {
      "application/vnd.jupyter.widget-view+json": {
       "model_id": "49296f34c78547c5bc8e8bd2ad9a7988",
       "version_major": 2,
       "version_minor": 0
      },
      "text/plain": [
       "Uploading artifacts:   0%|          | 0/9 [00:00<?, ?it/s]"
      ]
     },
     "metadata": {},
     "output_type": "display_data"
    },
    {
     "output_type": "stream",
     "name": "stdout",
     "output_type": "stream",
     "text": [
      "\r 91%|█████████ | 29/32 [03:45<00:21,  7.12s/trial, best loss: -1.0]"
     ]
    },
    {
     "output_type": "display_data",
     "data": {
      "application/vnd.jupyter.widget-view+json": {
       "model_id": "cf41d002dbd6413ebdc617c2d366d1a3",
       "version_major": 2,
       "version_minor": 0
      },
      "text/plain": [
       "Uploading artifacts:   0%|          | 0/3 [00:00<?, ?it/s]"
      ]
     },
     "metadata": {},
     "output_type": "display_data"
    },
    {
     "output_type": "display_data",
     "data": {
      "application/vnd.jupyter.widget-view+json": {
       "model_id": "33760aded7a44ce8b9929453483397b2",
       "version_major": 2,
       "version_minor": 0
      },
      "text/plain": [
       "Uploading artifacts:   0%|          | 0/9 [00:00<?, ?it/s]"
      ]
     },
     "metadata": {},
     "output_type": "display_data"
    },
    {
     "output_type": "stream",
     "name": "stderr",
     "output_type": "stream",
     "text": [
      "2025/07/05 13:48:49 WARNING mlflow.models.model: Model logged without a signature. Signatures will be required for upcoming model registry features as they validate model inputs and denote the expected schema of model outputs. Please visit https://www.mlflow.org/docs/2.11.4/models.html#set-signature-on-logged-model for instructions on setting a model signature on your logged model.\n\n"
     ]
    },
    {
     "output_type": "display_data",
     "data": {
      "application/vnd.jupyter.widget-view+json": {
       "model_id": "0a6e5a64119d465d91d4f761e1472859",
       "version_major": 2,
       "version_minor": 0
      },
      "text/plain": [
       "Uploading artifacts:   0%|          | 0/9 [00:00<?, ?it/s]"
      ]
     },
     "metadata": {},
     "output_type": "display_data"
    },
    {
     "output_type": "stream",
     "name": "stdout",
     "output_type": "stream",
     "text": [
      "\r 94%|█████████▍| 30/32 [03:52<00:14,  7.16s/trial, best loss: -1.0]"
     ]
    },
    {
     "output_type": "display_data",
     "data": {
      "application/vnd.jupyter.widget-view+json": {
       "model_id": "28600d0e105d41beaec8042709d640d5",
       "version_major": 2,
       "version_minor": 0
      },
      "text/plain": [
       "Uploading artifacts:   0%|          | 0/3 [00:00<?, ?it/s]"
      ]
     },
     "metadata": {},
     "output_type": "display_data"
    },
    {
     "output_type": "display_data",
     "data": {
      "application/vnd.jupyter.widget-view+json": {
       "model_id": "c5910332d8df4d6e9f7d570597f1117b",
       "version_major": 2,
       "version_minor": 0
      },
      "text/plain": [
       "Uploading artifacts:   0%|          | 0/9 [00:00<?, ?it/s]"
      ]
     },
     "metadata": {},
     "output_type": "display_data"
    },
    {
     "output_type": "stream",
     "name": "stderr",
     "output_type": "stream",
     "text": [
      "2025/07/05 13:48:57 WARNING mlflow.models.model: Model logged without a signature. Signatures will be required for upcoming model registry features as they validate model inputs and denote the expected schema of model outputs. Please visit https://www.mlflow.org/docs/2.11.4/models.html#set-signature-on-logged-model for instructions on setting a model signature on your logged model.\n\n"
     ]
    },
    {
     "output_type": "display_data",
     "data": {
      "application/vnd.jupyter.widget-view+json": {
       "model_id": "5ff76bfb7639424b811101f696ceab97",
       "version_major": 2,
       "version_minor": 0
      },
      "text/plain": [
       "Uploading artifacts:   0%|          | 0/9 [00:00<?, ?it/s]"
      ]
     },
     "metadata": {},
     "output_type": "display_data"
    },
    {
     "output_type": "stream",
     "name": "stdout",
     "output_type": "stream",
     "text": [
      "\r 97%|█████████▋| 31/32 [04:00<00:07,  7.50s/trial, best loss: -1.0]"
     ]
    },
    {
     "output_type": "display_data",
     "data": {
      "application/vnd.jupyter.widget-view+json": {
       "model_id": "d7abdd889ed34fd2a842e694428570e7",
       "version_major": 2,
       "version_minor": 0
      },
      "text/plain": [
       "Uploading artifacts:   0%|          | 0/3 [00:00<?, ?it/s]"
      ]
     },
     "metadata": {},
     "output_type": "display_data"
    },
    {
     "output_type": "display_data",
     "data": {
      "application/vnd.jupyter.widget-view+json": {
       "model_id": "9ac75e26e629486f9bbece37415f2a99",
       "version_major": 2,
       "version_minor": 0
      },
      "text/plain": [
       "Uploading artifacts:   0%|          | 0/9 [00:00<?, ?it/s]"
      ]
     },
     "metadata": {},
     "output_type": "display_data"
    },
    {
     "output_type": "stream",
     "name": "stderr",
     "output_type": "stream",
     "text": [
      "2025/07/05 13:49:04 WARNING mlflow.models.model: Model logged without a signature. Signatures will be required for upcoming model registry features as they validate model inputs and denote the expected schema of model outputs. Please visit https://www.mlflow.org/docs/2.11.4/models.html#set-signature-on-logged-model for instructions on setting a model signature on your logged model.\n\n"
     ]
    },
    {
     "output_type": "display_data",
     "data": {
      "application/vnd.jupyter.widget-view+json": {
       "model_id": "c922a9d5a1c34ba0a87e0b80b1b09dc4",
       "version_major": 2,
       "version_minor": 0
      },
      "text/plain": [
       "Uploading artifacts:   0%|          | 0/9 [00:00<?, ?it/s]"
      ]
     },
     "metadata": {},
     "output_type": "display_data"
    },
    {
     "output_type": "stream",
     "name": "stdout",
     "output_type": "stream",
     "text": [
      "\r100%|██████████| 32/32 [04:08<00:00,  7.49s/trial, best loss: -1.0]\r100%|██████████| 32/32 [04:08<00:00,  7.75s/trial, best loss: -1.0]\nBest hyperparameters found: {'C': 0.19525541873031102, 'gamma': 1, 'kernel': 0}\n"
     ]
    }
   ],
   "source": [
    "import mlflow\n",
    "import mlflow.sklearn\n",
    "import sklearn\n",
    "from sklearn import svm, metrics\n",
    "from hyperopt import fmin, tpe, hp, STATUS_OK, Trials\n",
    "\n",
    "import databricks.connect as db_connect\n",
    "import mlflow.tracking._model_registry.utils\n",
    "\n",
    "mlflow.tracking._model_registry.utils._get_registry_uri_from_spark_session = lambda: \"databricks-uc\"\n",
    "\n",
    "mlflow.login() \n",
    "spark_ctx = db_connect.DatabricksSession.builder.serverless(True).getOrCreate()\n",
    "\n",
    "search_space = {\n",
    "    'C': hp.loguniform('C', -3, 3),\n",
    "    'kernel': hp.choice('kernel', ['linear', 'rbf', 'poly']),\n",
    "    'gamma': hp.choice('gamma', ['scale', 'auto'])\n",
    "}\n",
    "\n",
    "def train_model(params):\n",
    "    mlflow.sklearn.autolog()\n",
    "    \n",
    "    with mlflow.start_run(nested=True):\n",
    "        model = svm.SVC(\n",
    "            C=params['C'],\n",
    "            kernel=params['kernel'],\n",
    "            gamma=params['gamma'],\n",
    "            probability=True,\n",
    "            random_state=0\n",
    "        )\n",
    "        \n",
    "        model.fit(X_train, y_train)\n",
    "        \n",
    "        predicted_probs = model.predict_proba(X_test)\n",
    "        auc = sklearn.metrics.roc_auc_score(y_test, predicted_probs[:, 1])\n",
    "        \n",
    "        mlflow.log_metric('test_auc', auc)\n",
    "        mlflow.sklearn.log_model(model, \"model\")\n",
    "        \n",
    "        return {'status': STATUS_OK, 'loss': -1 * auc, 'model':model}\n",
    "\n",
    "trials = Trials()\n",
    "\n",
    "with mlflow.start_run(run_name='svm_hyperopt') as main_run:\n",
    "    best_params = fmin(\n",
    "        fn=train_model,\n",
    "        space=search_space,\n",
    "        algo=tpe.suggest,\n",
    "        max_evals=32,\n",
    "        trials=trials\n",
    "    )\n",
    "    \n",
    "    print(\"Best hyperparameters found:\", best_params)"
   ]
  },
  {
   "cell_type": "code",
   "execution_count": 0,
   "metadata": {
    "application/vnd.databricks.v1+cell": {
     "cellMetadata": {
      "byteLimit": 2048000,
      "rowLimit": 10000
     },
     "inputWidgets": {},
     "nuid": "51a0ce3f-5382-4d54-b2e6-c270ba2b724b",
     "showTitle": false,
     "tableResultSettingsMap": {},
     "title": ""
    }
   },
   "outputs": [
    {
     "output_type": "stream",
     "name": "stdout",
     "output_type": "stream",
     "text": [
      "Best Run\nAUC: 1.0\nRun ID : 8b0e74a62db6487d8978a18e59377c1d\n"
     ]
    }
   ],
   "source": [
    "best_run = mlflow.search_runs(\n",
    "  order_by=['metrics.test_auc DESC', 'start_time DESC'],\n",
    "  max_results=10,\n",
    ").iloc[0]\n",
    "print('Best Run')\n",
    "print('AUC: {}'.format(best_run[\"metrics.test_auc\"]))\n",
    "print('Run ID : {}'.format(best_run[\"run_id\"]))"
   ]
  },
  {
   "cell_type": "code",
   "execution_count": 0,
   "metadata": {
    "application/vnd.databricks.v1+cell": {
     "cellMetadata": {
      "byteLimit": 2048000,
      "rowLimit": 10000
     },
     "inputWidgets": {},
     "nuid": "765c67e6-b5fc-4184-a0ee-a9e12d07ffab",
     "showTitle": false,
     "tableResultSettingsMap": {},
     "title": ""
    }
   },
   "outputs": [
    {
     "output_type": "display_data",
     "data": {
      "application/vnd.jupyter.widget-view+json": {
       "model_id": "03187c1987f445158b0a7a7c0b97a45e",
       "version_major": 2,
       "version_minor": 0
      },
      "text/plain": [
       "Downloading artifacts:   0%|          | 0/9 [00:00<?, ?it/s]"
      ]
     },
     "metadata": {},
     "output_type": "display_data"
    },
    {
     "output_type": "display_data",
     "data": {
      "application/vnd.jupyter.widget-view+json": {
       "model_id": "1e7d76404e404392a4ca764e991f170b",
       "version_major": 2,
       "version_minor": 0
      },
      "text/plain": [
       "Uploading artifacts:   0%|          | 0/9 [00:00<?, ?it/s]"
      ]
     },
     "metadata": {},
     "output_type": "display_data"
    },
    {
     "output_type": "stream",
     "name": "stderr",
     "output_type": "stream",
     "text": [
      "Registered model 'workspace.default.mvis_model_m' already exists. Creating a new version of this model...\n"
     ]
    },
    {
     "output_type": "display_data",
     "data": {
      "application/vnd.jupyter.widget-view+json": {
       "model_id": "8f714470fb344b77a245e3bea3285f08",
       "version_major": 2,
       "version_minor": 0
      },
      "text/plain": [
       "Downloading artifacts:   0%|          | 0/9 [00:00<?, ?it/s]"
      ]
     },
     "metadata": {},
     "output_type": "display_data"
    },
    {
     "output_type": "display_data",
     "data": {
      "application/vnd.jupyter.widget-view+json": {
       "model_id": "18989ca683bf4b2cb8bbd80f9cdcf364",
       "version_major": 2,
       "version_minor": 0
      },
      "text/plain": [
       "Uploading artifacts:   0%|          | 0/9 [00:00<?, ?it/s]"
      ]
     },
     "metadata": {},
     "output_type": "display_data"
    },
    {
     "output_type": "display_data",
     "data": {
      "text/plain": [
       "\u001B[0;31m---------------------------------------------------------------------------\u001B[0m\n",
       "\u001B[0;31mMlflowException\u001B[0m                           Traceback (most recent call last)\n",
       "File \u001B[0;32m<command-6879499967690092>, line 28\u001B[0m\n",
       "\u001B[1;32m     25\u001B[0m     new_model_uri \u001B[38;5;241m=\u001B[39m \u001B[38;5;124mf\u001B[39m\u001B[38;5;124m\"\u001B[39m\u001B[38;5;124mruns:/\u001B[39m\u001B[38;5;132;01m{\u001B[39;00mrun\u001B[38;5;241m.\u001B[39minfo\u001B[38;5;241m.\u001B[39mrun_id\u001B[38;5;132;01m}\u001B[39;00m\u001B[38;5;124m/model\u001B[39m\u001B[38;5;124m\"\u001B[39m\n",
       "\u001B[1;32m     27\u001B[0m \u001B[38;5;66;03m# Register using new URI\u001B[39;00m\n",
       "\u001B[0;32m---> 28\u001B[0m mlflow\u001B[38;5;241m.\u001B[39mregister_model(new_model_uri, \u001B[38;5;124mf\u001B[39m\u001B[38;5;124m\"\u001B[39m\u001B[38;5;132;01m{\u001B[39;00mCATALOG_NAME\u001B[38;5;132;01m}\u001B[39;00m\u001B[38;5;124m.\u001B[39m\u001B[38;5;132;01m{\u001B[39;00mSCHEMA_NAME\u001B[38;5;132;01m}\u001B[39;00m\u001B[38;5;124m.mvis_model_m\u001B[39m\u001B[38;5;124m\"\u001B[39m)\n",
       "\n",
       "File \u001B[0;32m/databricks/python/lib/python3.11/site-packages/mlflow/tracking/_model_registry/fluent.py:77\u001B[0m, in \u001B[0;36mregister_model\u001B[0;34m(model_uri, name, await_registration_for, tags)\u001B[0m\n",
       "\u001B[1;32m     17\u001B[0m \u001B[38;5;28;01mdef\u001B[39;00m \u001B[38;5;21mregister_model\u001B[39m(\n",
       "\u001B[1;32m     18\u001B[0m     model_uri,\n",
       "\u001B[1;32m     19\u001B[0m     name,\n",
       "\u001B[0;32m   (...)\u001B[0m\n",
       "\u001B[1;32m     22\u001B[0m     tags: Optional[Dict[\u001B[38;5;28mstr\u001B[39m, Any]] \u001B[38;5;241m=\u001B[39m \u001B[38;5;28;01mNone\u001B[39;00m,\n",
       "\u001B[1;32m     23\u001B[0m ) \u001B[38;5;241m-\u001B[39m\u001B[38;5;241m>\u001B[39m ModelVersion:\n",
       "\u001B[1;32m     24\u001B[0m \u001B[38;5;250m    \u001B[39m\u001B[38;5;124;03m\"\"\"Create a new model version in model registry for the model files specified by ``model_uri``.\u001B[39;00m\n",
       "\u001B[1;32m     25\u001B[0m \n",
       "\u001B[1;32m     26\u001B[0m \u001B[38;5;124;03m    Note that this method assumes the model registry backend URI is the same as that of the\u001B[39;00m\n",
       "\u001B[0;32m   (...)\u001B[0m\n",
       "\u001B[1;32m     75\u001B[0m \u001B[38;5;124;03m        Version: 1\u001B[39;00m\n",
       "\u001B[1;32m     76\u001B[0m \u001B[38;5;124;03m    \"\"\"\u001B[39;00m\n",
       "\u001B[0;32m---> 77\u001B[0m     \u001B[38;5;28;01mreturn\u001B[39;00m _register_model(\n",
       "\u001B[1;32m     78\u001B[0m         model_uri\u001B[38;5;241m=\u001B[39mmodel_uri, name\u001B[38;5;241m=\u001B[39mname, await_registration_for\u001B[38;5;241m=\u001B[39mawait_registration_for, tags\u001B[38;5;241m=\u001B[39mtags\n",
       "\u001B[1;32m     79\u001B[0m     )\n",
       "\n",
       "File \u001B[0;32m/databricks/python/lib/python3.11/site-packages/mlflow/tracking/_model_registry/fluent.py:112\u001B[0m, in \u001B[0;36m_register_model\u001B[0;34m(model_uri, name, await_registration_for, tags, local_model_path)\u001B[0m\n",
       "\u001B[1;32m    109\u001B[0m     source \u001B[38;5;241m=\u001B[39m RunsArtifactRepository\u001B[38;5;241m.\u001B[39mget_underlying_uri(model_uri)\n",
       "\u001B[1;32m    110\u001B[0m     (run_id, _) \u001B[38;5;241m=\u001B[39m RunsArtifactRepository\u001B[38;5;241m.\u001B[39mparse_runs_uri(model_uri)\n",
       "\u001B[0;32m--> 112\u001B[0m create_version_response \u001B[38;5;241m=\u001B[39m client\u001B[38;5;241m.\u001B[39m_create_model_version(\n",
       "\u001B[1;32m    113\u001B[0m     name\u001B[38;5;241m=\u001B[39mname,\n",
       "\u001B[1;32m    114\u001B[0m     source\u001B[38;5;241m=\u001B[39msource,\n",
       "\u001B[1;32m    115\u001B[0m     run_id\u001B[38;5;241m=\u001B[39mrun_id,\n",
       "\u001B[1;32m    116\u001B[0m     tags\u001B[38;5;241m=\u001B[39mtags,\n",
       "\u001B[1;32m    117\u001B[0m     await_creation_for\u001B[38;5;241m=\u001B[39mawait_registration_for,\n",
       "\u001B[1;32m    118\u001B[0m     local_model_path\u001B[38;5;241m=\u001B[39mlocal_model_path,\n",
       "\u001B[1;32m    119\u001B[0m )\n",
       "\u001B[1;32m    120\u001B[0m eprint(\n",
       "\u001B[1;32m    121\u001B[0m     \u001B[38;5;124mf\u001B[39m\u001B[38;5;124m\"\u001B[39m\u001B[38;5;124mCreated version \u001B[39m\u001B[38;5;124m'\u001B[39m\u001B[38;5;132;01m{\u001B[39;00mcreate_version_response\u001B[38;5;241m.\u001B[39mversion\u001B[38;5;132;01m}\u001B[39;00m\u001B[38;5;124m'\u001B[39m\u001B[38;5;124m of model \u001B[39m\u001B[38;5;124m\"\u001B[39m\n",
       "\u001B[1;32m    122\u001B[0m     \u001B[38;5;124mf\u001B[39m\u001B[38;5;124m\"\u001B[39m\u001B[38;5;124m'\u001B[39m\u001B[38;5;132;01m{\u001B[39;00mcreate_version_response\u001B[38;5;241m.\u001B[39mname\u001B[38;5;132;01m}\u001B[39;00m\u001B[38;5;124m'\u001B[39m\u001B[38;5;124m.\u001B[39m\u001B[38;5;124m\"\u001B[39m\n",
       "\u001B[1;32m    123\u001B[0m )\n",
       "\u001B[1;32m    124\u001B[0m \u001B[38;5;28;01mreturn\u001B[39;00m create_version_response\n",
       "\n",
       "File \u001B[0;32m/databricks/python/lib/python3.11/site-packages/mlflow/tracking/client.py:2714\u001B[0m, in \u001B[0;36mMlflowClient._create_model_version\u001B[0;34m(self, name, source, run_id, tags, run_link, description, await_creation_for, local_model_path)\u001B[0m\n",
       "\u001B[1;32m   2706\u001B[0m     \u001B[38;5;66;03m# NOTE: we can't easily delete the target temp location due to the async nature\u001B[39;00m\n",
       "\u001B[1;32m   2707\u001B[0m     \u001B[38;5;66;03m# of the model version creation - printing to let the user know.\u001B[39;00m\n",
       "\u001B[1;32m   2708\u001B[0m     eprint(\n",
       "\u001B[1;32m   2709\u001B[0m         \u001B[38;5;124mf\u001B[39m\u001B[38;5;124m\"\u001B[39m\u001B[38;5;124m=== Source model files were copied to \u001B[39m\u001B[38;5;132;01m{\u001B[39;00mnew_source\u001B[38;5;132;01m}\u001B[39;00m\u001B[38;5;124m\"\u001B[39m\n",
       "\u001B[1;32m   2710\u001B[0m         \u001B[38;5;241m+\u001B[39m \u001B[38;5;124m\"\u001B[39m\u001B[38;5;124m in the model registry workspace. You may want to delete the files once the\u001B[39m\u001B[38;5;124m\"\u001B[39m\n",
       "\u001B[1;32m   2711\u001B[0m         \u001B[38;5;241m+\u001B[39m \u001B[38;5;124m\"\u001B[39m\u001B[38;5;124m model version is in \u001B[39m\u001B[38;5;124m'\u001B[39m\u001B[38;5;124mREADY\u001B[39m\u001B[38;5;124m'\u001B[39m\u001B[38;5;124m status. You can also find this location in the\u001B[39m\u001B[38;5;124m\"\u001B[39m\n",
       "\u001B[1;32m   2712\u001B[0m         \u001B[38;5;241m+\u001B[39m \u001B[38;5;124m\"\u001B[39m\u001B[38;5;124m `source` field of the created model version. ===\u001B[39m\u001B[38;5;124m\"\u001B[39m\n",
       "\u001B[1;32m   2713\u001B[0m     )\n",
       "\u001B[0;32m-> 2714\u001B[0m \u001B[38;5;28;01mreturn\u001B[39;00m \u001B[38;5;28mself\u001B[39m\u001B[38;5;241m.\u001B[39m_get_registry_client()\u001B[38;5;241m.\u001B[39mcreate_model_version(\n",
       "\u001B[1;32m   2715\u001B[0m     name\u001B[38;5;241m=\u001B[39mname,\n",
       "\u001B[1;32m   2716\u001B[0m     source\u001B[38;5;241m=\u001B[39mnew_source,\n",
       "\u001B[1;32m   2717\u001B[0m     run_id\u001B[38;5;241m=\u001B[39mrun_id,\n",
       "\u001B[1;32m   2718\u001B[0m     tags\u001B[38;5;241m=\u001B[39mtags,\n",
       "\u001B[1;32m   2719\u001B[0m     run_link\u001B[38;5;241m=\u001B[39mrun_link,\n",
       "\u001B[1;32m   2720\u001B[0m     description\u001B[38;5;241m=\u001B[39mdescription,\n",
       "\u001B[1;32m   2721\u001B[0m     await_creation_for\u001B[38;5;241m=\u001B[39mawait_creation_for,\n",
       "\u001B[1;32m   2722\u001B[0m     local_model_path\u001B[38;5;241m=\u001B[39mlocal_model_path,\n",
       "\u001B[1;32m   2723\u001B[0m )\n",
       "\n",
       "File \u001B[0;32m/databricks/python/lib/python3.11/site-packages/mlflow/tracking/_model_registry/client.py:215\u001B[0m, in \u001B[0;36mModelRegistryClient.create_model_version\u001B[0;34m(self, name, source, run_id, tags, run_link, description, await_creation_for, local_model_path)\u001B[0m\n",
       "\u001B[1;32m    213\u001B[0m arg_names \u001B[38;5;241m=\u001B[39m _get_arg_names(\u001B[38;5;28mself\u001B[39m\u001B[38;5;241m.\u001B[39mstore\u001B[38;5;241m.\u001B[39mcreate_model_version)\n",
       "\u001B[1;32m    214\u001B[0m \u001B[38;5;28;01mif\u001B[39;00m \u001B[38;5;124m\"\u001B[39m\u001B[38;5;124mlocal_model_path\u001B[39m\u001B[38;5;124m\"\u001B[39m \u001B[38;5;129;01min\u001B[39;00m arg_names:\n",
       "\u001B[0;32m--> 215\u001B[0m     mv \u001B[38;5;241m=\u001B[39m \u001B[38;5;28mself\u001B[39m\u001B[38;5;241m.\u001B[39mstore\u001B[38;5;241m.\u001B[39mcreate_model_version(\n",
       "\u001B[1;32m    216\u001B[0m         name,\n",
       "\u001B[1;32m    217\u001B[0m         source,\n",
       "\u001B[1;32m    218\u001B[0m         run_id,\n",
       "\u001B[1;32m    219\u001B[0m         tags,\n",
       "\u001B[1;32m    220\u001B[0m         run_link,\n",
       "\u001B[1;32m    221\u001B[0m         description,\n",
       "\u001B[1;32m    222\u001B[0m         local_model_path\u001B[38;5;241m=\u001B[39mlocal_model_path,\n",
       "\u001B[1;32m    223\u001B[0m     )\n",
       "\u001B[1;32m    224\u001B[0m \u001B[38;5;28;01melse\u001B[39;00m:\n",
       "\u001B[1;32m    225\u001B[0m     \u001B[38;5;66;03m# Fall back to calling create_model_version without\u001B[39;00m\n",
       "\u001B[1;32m    226\u001B[0m     \u001B[38;5;66;03m# local_model_path since old model registry store implementations may not\u001B[39;00m\n",
       "\u001B[1;32m    227\u001B[0m     \u001B[38;5;66;03m# support the local_model_path argument.\u001B[39;00m\n",
       "\u001B[1;32m    228\u001B[0m     mv \u001B[38;5;241m=\u001B[39m \u001B[38;5;28mself\u001B[39m\u001B[38;5;241m.\u001B[39mstore\u001B[38;5;241m.\u001B[39mcreate_model_version(name, source, run_id, tags, run_link, description)\n",
       "\n",
       "File \u001B[0;32m/databricks/python/lib/python3.11/site-packages/mlflow/store/_unity_catalog/registry/rest_store.py:737\u001B[0m, in \u001B[0;36mUcModelRegistryStore.create_model_version\u001B[0;34m(self, name, source, run_id, tags, run_link, description, local_model_path)\u001B[0m\n",
       "\u001B[1;32m    731\u001B[0m scoped_token \u001B[38;5;241m=\u001B[39m \u001B[38;5;28mself\u001B[39m\u001B[38;5;241m.\u001B[39m_get_temporary_model_version_write_credentials(\n",
       "\u001B[1;32m    732\u001B[0m     name\u001B[38;5;241m=\u001B[39mfull_name, version\u001B[38;5;241m=\u001B[39mversion_number\n",
       "\u001B[1;32m    733\u001B[0m )\n",
       "\u001B[1;32m    734\u001B[0m store \u001B[38;5;241m=\u001B[39m get_artifact_repo_from_storage_info(\n",
       "\u001B[1;32m    735\u001B[0m     storage_location\u001B[38;5;241m=\u001B[39mmodel_version\u001B[38;5;241m.\u001B[39mstorage_location, scoped_token\u001B[38;5;241m=\u001B[39mscoped_token\n",
       "\u001B[1;32m    736\u001B[0m )\n",
       "\u001B[0;32m--> 737\u001B[0m store\u001B[38;5;241m.\u001B[39mlog_artifacts(local_dir\u001B[38;5;241m=\u001B[39mlocal_model_dir, artifact_path\u001B[38;5;241m=\u001B[39m\u001B[38;5;124m\"\u001B[39m\u001B[38;5;124m\"\u001B[39m)\n",
       "\u001B[1;32m    738\u001B[0m finalized_mv \u001B[38;5;241m=\u001B[39m \u001B[38;5;28mself\u001B[39m\u001B[38;5;241m.\u001B[39m_finalize_model_version(name\u001B[38;5;241m=\u001B[39mfull_name, version\u001B[38;5;241m=\u001B[39mversion_number)\n",
       "\u001B[1;32m    739\u001B[0m \u001B[38;5;28;01mreturn\u001B[39;00m model_version_from_uc_proto(finalized_mv)\n",
       "\n",
       "File \u001B[0;32m/databricks/python/lib/python3.11/site-packages/mlflow/store/artifact/cloud_artifact_repo.py:156\u001B[0m, in \u001B[0;36mCloudArtifactRepository.log_artifacts\u001B[0;34m(self, local_dir, artifact_path)\u001B[0m\n",
       "\u001B[1;32m    153\u001B[0m             failed_uploads[src_file_path] \u001B[38;5;241m=\u001B[39m \u001B[38;5;28mrepr\u001B[39m(e)\n",
       "\u001B[1;32m    155\u001B[0m \u001B[38;5;28;01mif\u001B[39;00m \u001B[38;5;28mlen\u001B[39m(failed_uploads) \u001B[38;5;241m>\u001B[39m \u001B[38;5;241m0\u001B[39m:\n",
       "\u001B[0;32m--> 156\u001B[0m     \u001B[38;5;28;01mraise\u001B[39;00m MlflowException(\n",
       "\u001B[1;32m    157\u001B[0m         message\u001B[38;5;241m=\u001B[39m(\n",
       "\u001B[1;32m    158\u001B[0m             \u001B[38;5;124m\"\u001B[39m\u001B[38;5;124mThe following failures occurred while uploading one or more artifacts\u001B[39m\u001B[38;5;124m\"\u001B[39m\n",
       "\u001B[1;32m    159\u001B[0m             \u001B[38;5;124mf\u001B[39m\u001B[38;5;124m\"\u001B[39m\u001B[38;5;124m to \u001B[39m\u001B[38;5;132;01m{\u001B[39;00m\u001B[38;5;28mself\u001B[39m\u001B[38;5;241m.\u001B[39martifact_uri\u001B[38;5;132;01m}\u001B[39;00m\u001B[38;5;124m: \u001B[39m\u001B[38;5;132;01m{\u001B[39;00mfailed_uploads\u001B[38;5;132;01m}\u001B[39;00m\u001B[38;5;124m\"\u001B[39m\n",
       "\u001B[1;32m    160\u001B[0m         )\n",
       "\u001B[1;32m    161\u001B[0m     )\n",
       "\n",
       "\u001B[0;31mMlflowException\u001B[0m: The following failures occurred while uploading one or more artifacts to s3://dbstorage-prod-lceav/uc/5091e5cd-84e0-4338-9c58-21f756d7feed/1dadb6c8-6a69-4f2d-9164-c1dea59048f6/models/05f2a874-ddab-4718-a643-286e6db5e287/versions/4dee25d6-8160-4899-8d43-d10e1f7591ff: {'/local_disk0/repl_tmp_data/ReplId-197da-d4371-6/tmptffdqb5n/model/MLmodel': 'S3UploadFailedError(\\'Failed to upload /local_disk0/repl_tmp_data/ReplId-197da-d4371-6/tmptffdqb5n/model/MLmodel to dbstorage-prod-lceav/uc/5091e5cd-84e0-4338-9c58-21f756d7feed/1dadb6c8-6a69-4f2d-9164-c1dea59048f6/models/05f2a874-ddab-4718-a643-286e6db5e287/versions/4dee25d6-8160-4899-8d43-d10e1f7591ff/MLmodel: An error occurred (AccessDenied) when calling the PutObject operation: User: arn:aws:sts::866450131174:assumed-role/dbrole-prod-v9a1x/m=Ha22yGppTy2RZMHepZBI9g,s=W993O0KIRmuJSkgwncjU2A is not authorized to perform: s3:PutObject on resource: \"arn:aws:s3:::dbstorage-prod-lceav/uc/5091e5cd-84e0-4338-9c58-21f756d7feed/1dadb6c8-6a69-4f2d-9164-c1dea59048f6/models/05f2a874-ddab-4718-a643-286e6db5e287/versions/4dee25d6-8160-4899-8d43-d10e1f7591ff/MLmodel\" with an explicit deny in a resource-based policy\\')', '/local_disk0/repl_tmp_data/ReplId-197da-d4371-6/tmptffdqb5n/model/requirements.txt': 'S3UploadFailedError(\\'Failed to upload /local_disk0/repl_tmp_data/ReplId-197da-d4371-6/tmptffdqb5n/model/requirements.txt to dbstorage-prod-lceav/uc/5091e5cd-84e0-4338-9c58-21f756d7feed/1dadb6c8-6a69-4f2d-9164-c1dea59048f6/models/05f2a874-ddab-4718-a643-286e6db5e287/versions/4dee25d6-8160-4899-8d43-d10e1f7591ff/requirements.txt: An error occurred (AccessDenied) when calling the PutObject operation: User: arn:aws:sts::866450131174:assumed-role/dbrole-prod-v9a1x/m=Ha22yGppTy2RZMHepZBI9g,s=W993O0KIRmuJSkgwncjU2A is not authorized to perform: s3:PutObject on resource: \"arn:aws:s3:::dbstorage-prod-lceav/uc/5091e5cd-84e0-4338-9c58-21f756d7feed/1dadb6c8-6a69-4f2d-9164-c1dea59048f6/models/05f2a874-ddab-4718-a643-286e6db5e287/versions/4dee25d6-8160-4899-8d43-d10e1f7591ff/requirements.txt\" with an explicit deny in a resource-based policy\\')', '/local_disk0/repl_tmp_data/ReplId-197da-d4371-6/tmptffdqb5n/model/model.pkl': 'S3UploadFailedError(\\'Failed to upload /local_disk0/repl_tmp_data/ReplId-197da-d4371-6/tmptffdqb5n/model/model.pkl to dbstorage-prod-lceav/uc/5091e5cd-84e0-4338-9c58-21f756d7feed/1dadb6c8-6a69-4f2d-9164-c1dea59048f6/models/05f2a874-ddab-4718-a643-286e6db5e287/versions/4dee25d6-8160-4899-8d43-d10e1f7591ff/model.pkl: An error occurred (AccessDenied) when calling the PutObject operation: User: arn:aws:sts::866450131174:assumed-role/dbrole-prod-v9a1x/m=Ha22yGppTy2RZMHepZBI9g,s=W993O0KIRmuJSkgwncjU2A is not authorized to perform: s3:PutObject on resource: \"arn:aws:s3:::dbstorage-prod-lceav/uc/5091e5cd-84e0-4338-9c58-21f756d7feed/1dadb6c8-6a69-4f2d-9164-c1dea59048f6/models/05f2a874-ddab-4718-a643-286e6db5e287/versions/4dee25d6-8160-4899-8d43-d10e1f7591ff/model.pkl\" with an explicit deny in a resource-based policy\\')', '/local_disk0/repl_tmp_data/ReplId-197da-d4371-6/tmptffdqb5n/model/conda.yaml': 'S3UploadFailedError(\\'Failed to upload /local_disk0/repl_tmp_data/ReplId-197da-d4371-6/tmptffdqb5n/model/conda.yaml to dbstorage-prod-lceav/uc/5091e5cd-84e0-4338-9c58-21f756d7feed/1dadb6c8-6a69-4f2d-9164-c1dea59048f6/models/05f2a874-ddab-4718-a643-286e6db5e287/versions/4dee25d6-8160-4899-8d43-d10e1f7591ff/conda.yaml: An error occurred (AccessDenied) when calling the PutObject operation: User: arn:aws:sts::866450131174:assumed-role/dbrole-prod-v9a1x/m=Ha22yGppTy2RZMHepZBI9g,s=W993O0KIRmuJSkgwncjU2A is not authorized to perform: s3:PutObject on resource: \"arn:aws:s3:::dbstorage-prod-lceav/uc/5091e5cd-84e0-4338-9c58-21f756d7feed/1dadb6c8-6a69-4f2d-9164-c1dea59048f6/models/05f2a874-ddab-4718-a643-286e6db5e287/versions/4dee25d6-8160-4899-8d43-d10e1f7591ff/conda.yaml\" with an explicit deny in a resource-based policy\\')', '/local_disk0/repl_tmp_data/ReplId-197da-d4371-6/tmptffdqb5n/model/python_env.yaml': 'S3UploadFailedError(\\'Failed to upload /local_disk0/repl_tmp_data/ReplId-197da-d4371-6/tmptffdqb5n/model/python_env.yaml to dbstorage-prod-lceav/uc/5091e5cd-84e0-4338-9c58-21f756d7feed/1dadb6c8-6a69-4f2d-9164-c1dea59048f6/models/05f2a874-ddab-4718-a643-286e6db5e287/versions/4dee25d6-8160-4899-8d43-d10e1f7591ff/python_env.yaml: An error occurred (AccessDenied) when calling the PutObject operation: User: arn:aws:sts::866450131174:assumed-role/dbrole-prod-v9a1x/m=Ha22yGppTy2RZMHepZBI9g,s=W993O0KIRmuJSkgwncjU2A is not authorized to perform: s3:PutObject on resource: \"arn:aws:s3:::dbstorage-prod-lceav/uc/5091e5cd-84e0-4338-9c58-21f756d7feed/1dadb6c8-6a69-4f2d-9164-c1dea59048f6/models/05f2a874-ddab-4718-a643-286e6db5e287/versions/4dee25d6-8160-4899-8d43-d10e1f7591ff/python_env.yaml\" with an explicit deny in a resource-based policy\\')', '/local_disk0/repl_tmp_data/ReplId-197da-d4371-6/tmptffdqb5n/model/metadata/MLmodel': 'S3UploadFailedError(\\'Failed to upload /local_disk0/repl_tmp_data/ReplId-197da-d4371-6/tmptffdqb5n/model/metadata/MLmodel to dbstorage-prod-lceav/uc/5091e5cd-84e0-4338-9c58-21f756d7feed/1dadb6c8-6a69-4f2d-9164-c1dea59048f6/models/05f2a874-ddab-4718-a643-286e6db5e287/versions/4dee25d6-8160-4899-8d43-d10e1f7591ff/metadata/MLmodel: An error occurred (AccessDenied) when calling the PutObject operation: User: arn:aws:sts::866450131174:assumed-role/dbrole-prod-v9a1x/m=Ha22yGppTy2RZMHepZBI9g,s=W993O0KIRmuJSkgwncjU2A is not authorized to perform: s3:PutObject on resource: \"arn:aws:s3:::dbstorage-prod-lceav/uc/5091e5cd-84e0-4338-9c58-21f756d7feed/1dadb6c8-6a69-4f2d-9164-c1dea59048f6/models/05f2a874-ddab-4718-a643-286e6db5e287/versions/4dee25d6-8160-4899-8d43-d10e1f7591ff/metadata/MLmodel\" with an explicit deny in a resource-based policy\\')', '/local_disk0/repl_tmp_data/ReplId-197da-d4371-6/tmptffdqb5n/model/metadata/requirements.txt': 'S3UploadFailedError(\\'Failed to upload /local_disk0/repl_tmp_data/ReplId-197da-d4371-6/tmptffdqb5n/model/metadata/requirements.txt to dbstorage-prod-lceav/uc/5091e5cd-84e0-4338-9c58-21f756d7feed/1dadb6c8-6a69-4f2d-9164-c1dea59048f6/models/05f2a874-ddab-4718-a643-286e6db5e287/versions/4dee25d6-8160-4899-8d43-d10e1f7591ff/metadata/requirements.txt: An error occurred (AccessDenied) when calling the PutObject operation: User: arn:aws:sts::866450131174:assumed-role/dbrole-prod-v9a1x/m=Ha22yGppTy2RZMHepZBI9g,s=W993O0KIRmuJSkgwncjU2A is not authorized to perform: s3:PutObject on resource: \"arn:aws:s3:::dbstorage-prod-lceav/uc/5091e5cd-84e0-4338-9c58-21f756d7feed/1dadb6c8-6a69-4f2d-9164-c1dea59048f6/models/05f2a874-ddab-4718-a643-286e6db5e287/versions/4dee25d6-8160-4899-8d43-d10e1f7591ff/metadata/requirements.txt\" with an explicit deny in a resource-based policy\\')', '/local_disk0/repl_tmp_data/ReplId-197da-d4371-6/tmptffdqb5n/model/metadata/conda.yaml': 'S3UploadFailedError(\\'Failed to upload /local_disk0/repl_tmp_data/ReplId-197da-d4371-6/tmptffdqb5n/model/metadata/conda.yaml to dbstorage-prod-lceav/uc/5091e5cd-84e0-4338-9c58-21f756d7feed/1dadb6c8-6a69-4f2d-9164-c1dea59048f6/models/05f2a874-ddab-4718-a643-286e6db5e287/versions/4dee25d6-8160-4899-8d43-d10e1f7591ff/metadata/conda.yaml: An error occurred (AccessDenied) when calling the PutObject operation: User: arn:aws:sts::866450131174:assumed-role/dbrole-prod-v9a1x/m=Ha22yGppTy2RZMHepZBI9g,s=W993O0KIRmuJSkgwncjU2A is not authorized to perform: s3:PutObject on resource: \"arn:aws:s3:::dbstorage-prod-lceav/uc/5091e5cd-84e0-4338-9c58-21f756d7feed/1dadb6c8-6a69-4f2d-9164-c1dea59048f6/models/05f2a874-ddab-4718-a643-286e6db5e287/versions/4dee25d6-8160-4899-8d43-d10e1f7591ff/metadata/conda.yaml\" with an explicit deny in a resource-based policy\\')', '/local_disk0/repl_tmp_data/ReplId-197da-d4371-6/tmptffdqb5n/model/metadata/python_env.yaml': 'S3UploadFailedError(\\'Failed to upload /local_disk0/repl_tmp_data/ReplId-197da-d4371-6/tmptffdqb5n/model/metadata/python_env.yaml to dbstorage-prod-lceav/uc/5091e5cd-84e0-4338-9c58-21f756d7feed/1dadb6c8-6a69-4f2d-9164-c1dea59048f6/models/05f2a874-ddab-4718-a643-286e6db5e287/versions/4dee25d6-8160-4899-8d43-d10e1f7591ff/metadata/python_env.yaml: An error occurred (AccessDenied) when calling the PutObject operation: User: arn:aws:sts::866450131174:assumed-role/dbrole-prod-v9a1x/m=Ha22yGppTy2RZMHepZBI9g,s=W993O0KIRmuJSkgwncjU2A is not authorized to perform: s3:PutObject on resource: \"arn:aws:s3:::dbstorage-prod-lceav/uc/5091e5cd-84e0-4338-9c58-21f756d7feed/1dadb6c8-6a69-4f2d-9164-c1dea59048f6/models/05f2a874-ddab-4718-a643-286e6db5e287/versions/4dee25d6-8160-4899-8d43-d10e1f7591ff/metadata/python_env.yaml\" with an explicit deny in a resource-based policy\\')'}"
      ]
     },
     "metadata": {
      "application/vnd.databricks.v1+output": {
       "addedWidgets": {},
       "arguments": {},
       "datasetInfos": [],
       "jupyterProps": {
        "ename": "MlflowException",
        "evalue": "The following failures occurred while uploading one or more artifacts to s3://dbstorage-prod-lceav/uc/5091e5cd-84e0-4338-9c58-21f756d7feed/1dadb6c8-6a69-4f2d-9164-c1dea59048f6/models/05f2a874-ddab-4718-a643-286e6db5e287/versions/4dee25d6-8160-4899-8d43-d10e1f7591ff: {'/local_disk0/repl_tmp_data/ReplId-197da-d4371-6/tmptffdqb5n/model/MLmodel': 'S3UploadFailedError(\\'Failed to upload /local_disk0/repl_tmp_data/ReplId-197da-d4371-6/tmptffdqb5n/model/MLmodel to dbstorage-prod-lceav/uc/5091e5cd-84e0-4338-9c58-21f756d7feed/1dadb6c8-6a69-4f2d-9164-c1dea59048f6/models/05f2a874-ddab-4718-a643-286e6db5e287/versions/4dee25d6-8160-4899-8d43-d10e1f7591ff/MLmodel: An error occurred (AccessDenied) when calling the PutObject operation: User: arn:aws:sts::866450131174:assumed-role/dbrole-prod-v9a1x/m=Ha22yGppTy2RZMHepZBI9g,s=W993O0KIRmuJSkgwncjU2A is not authorized to perform: s3:PutObject on resource: \"arn:aws:s3:::dbstorage-prod-lceav/uc/5091e5cd-84e0-4338-9c58-21f756d7feed/1dadb6c8-6a69-4f2d-9164-c1dea59048f6/models/05f2a874-ddab-4718-a643-286e6db5e287/versions/4dee25d6-8160-4899-8d43-d10e1f7591ff/MLmodel\" with an explicit deny in a resource-based policy\\')', '/local_disk0/repl_tmp_data/ReplId-197da-d4371-6/tmptffdqb5n/model/requirements.txt': 'S3UploadFailedError(\\'Failed to upload /local_disk0/repl_tmp_data/ReplId-197da-d4371-6/tmptffdqb5n/model/requirements.txt to dbstorage-prod-lceav/uc/5091e5cd-84e0-4338-9c58-21f756d7feed/1dadb6c8-6a69-4f2d-9164-c1dea59048f6/models/05f2a874-ddab-4718-a643-286e6db5e287/versions/4dee25d6-8160-4899-8d43-d10e1f7591ff/requirements.txt: An error occurred (AccessDenied) when calling the PutObject operation: User: arn:aws:sts::866450131174:assumed-role/dbrole-prod-v9a1x/m=Ha22yGppTy2RZMHepZBI9g,s=W993O0KIRmuJSkgwncjU2A is not authorized to perform: s3:PutObject on resource: \"arn:aws:s3:::dbstorage-prod-lceav/uc/5091e5cd-84e0-4338-9c58-21f756d7feed/1dadb6c8-6a69-4f2d-9164-c1dea59048f6/models/05f2a874-ddab-4718-a643-286e6db5e287/versions/4dee25d6-8160-4899-8d43-d10e1f7591ff/requirements.txt\" with an explicit deny in a resource-based policy\\')', '/local_disk0/repl_tmp_data/ReplId-197da-d4371-6/tmptffdqb5n/model/model.pkl': 'S3UploadFailedError(\\'Failed to upload /local_disk0/repl_tmp_data/ReplId-197da-d4371-6/tmptffdqb5n/model/model.pkl to dbstorage-prod-lceav/uc/5091e5cd-84e0-4338-9c58-21f756d7feed/1dadb6c8-6a69-4f2d-9164-c1dea59048f6/models/05f2a874-ddab-4718-a643-286e6db5e287/versions/4dee25d6-8160-4899-8d43-d10e1f7591ff/model.pkl: An error occurred (AccessDenied) when calling the PutObject operation: User: arn:aws:sts::866450131174:assumed-role/dbrole-prod-v9a1x/m=Ha22yGppTy2RZMHepZBI9g,s=W993O0KIRmuJSkgwncjU2A is not authorized to perform: s3:PutObject on resource: \"arn:aws:s3:::dbstorage-prod-lceav/uc/5091e5cd-84e0-4338-9c58-21f756d7feed/1dadb6c8-6a69-4f2d-9164-c1dea59048f6/models/05f2a874-ddab-4718-a643-286e6db5e287/versions/4dee25d6-8160-4899-8d43-d10e1f7591ff/model.pkl\" with an explicit deny in a resource-based policy\\')', '/local_disk0/repl_tmp_data/ReplId-197da-d4371-6/tmptffdqb5n/model/conda.yaml': 'S3UploadFailedError(\\'Failed to upload /local_disk0/repl_tmp_data/ReplId-197da-d4371-6/tmptffdqb5n/model/conda.yaml to dbstorage-prod-lceav/uc/5091e5cd-84e0-4338-9c58-21f756d7feed/1dadb6c8-6a69-4f2d-9164-c1dea59048f6/models/05f2a874-ddab-4718-a643-286e6db5e287/versions/4dee25d6-8160-4899-8d43-d10e1f7591ff/conda.yaml: An error occurred (AccessDenied) when calling the PutObject operation: User: arn:aws:sts::866450131174:assumed-role/dbrole-prod-v9a1x/m=Ha22yGppTy2RZMHepZBI9g,s=W993O0KIRmuJSkgwncjU2A is not authorized to perform: s3:PutObject on resource: \"arn:aws:s3:::dbstorage-prod-lceav/uc/5091e5cd-84e0-4338-9c58-21f756d7feed/1dadb6c8-6a69-4f2d-9164-c1dea59048f6/models/05f2a874-ddab-4718-a643-286e6db5e287/versions/4dee25d6-8160-4899-8d43-d10e1f7591ff/conda.yaml\" with an explicit deny in a resource-based policy\\')', '/local_disk0/repl_tmp_data/ReplId-197da-d4371-6/tmptffdqb5n/model/python_env.yaml': 'S3UploadFailedError(\\'Failed to upload /local_disk0/repl_tmp_data/ReplId-197da-d4371-6/tmptffdqb5n/model/python_env.yaml to dbstorage-prod-lceav/uc/5091e5cd-84e0-4338-9c58-21f756d7feed/1dadb6c8-6a69-4f2d-9164-c1dea59048f6/models/05f2a874-ddab-4718-a643-286e6db5e287/versions/4dee25d6-8160-4899-8d43-d10e1f7591ff/python_env.yaml: An error occurred (AccessDenied) when calling the PutObject operation: User: arn:aws:sts::866450131174:assumed-role/dbrole-prod-v9a1x/m=Ha22yGppTy2RZMHepZBI9g,s=W993O0KIRmuJSkgwncjU2A is not authorized to perform: s3:PutObject on resource: \"arn:aws:s3:::dbstorage-prod-lceav/uc/5091e5cd-84e0-4338-9c58-21f756d7feed/1dadb6c8-6a69-4f2d-9164-c1dea59048f6/models/05f2a874-ddab-4718-a643-286e6db5e287/versions/4dee25d6-8160-4899-8d43-d10e1f7591ff/python_env.yaml\" with an explicit deny in a resource-based policy\\')', '/local_disk0/repl_tmp_data/ReplId-197da-d4371-6/tmptffdqb5n/model/metadata/MLmodel': 'S3UploadFailedError(\\'Failed to upload /local_disk0/repl_tmp_data/ReplId-197da-d4371-6/tmptffdqb5n/model/metadata/MLmodel to dbstorage-prod-lceav/uc/5091e5cd-84e0-4338-9c58-21f756d7feed/1dadb6c8-6a69-4f2d-9164-c1dea59048f6/models/05f2a874-ddab-4718-a643-286e6db5e287/versions/4dee25d6-8160-4899-8d43-d10e1f7591ff/metadata/MLmodel: An error occurred (AccessDenied) when calling the PutObject operation: User: arn:aws:sts::866450131174:assumed-role/dbrole-prod-v9a1x/m=Ha22yGppTy2RZMHepZBI9g,s=W993O0KIRmuJSkgwncjU2A is not authorized to perform: s3:PutObject on resource: \"arn:aws:s3:::dbstorage-prod-lceav/uc/5091e5cd-84e0-4338-9c58-21f756d7feed/1dadb6c8-6a69-4f2d-9164-c1dea59048f6/models/05f2a874-ddab-4718-a643-286e6db5e287/versions/4dee25d6-8160-4899-8d43-d10e1f7591ff/metadata/MLmodel\" with an explicit deny in a resource-based policy\\')', '/local_disk0/repl_tmp_data/ReplId-197da-d4371-6/tmptffdqb5n/model/metadata/requirements.txt': 'S3UploadFailedError(\\'Failed to upload /local_disk0/repl_tmp_data/ReplId-197da-d4371-6/tmptffdqb5n/model/metadata/requirements.txt to dbstorage-prod-lceav/uc/5091e5cd-84e0-4338-9c58-21f756d7feed/1dadb6c8-6a69-4f2d-9164-c1dea59048f6/models/05f2a874-ddab-4718-a643-286e6db5e287/versions/4dee25d6-8160-4899-8d43-d10e1f7591ff/metadata/requirements.txt: An error occurred (AccessDenied) when calling the PutObject operation: User: arn:aws:sts::866450131174:assumed-role/dbrole-prod-v9a1x/m=Ha22yGppTy2RZMHepZBI9g,s=W993O0KIRmuJSkgwncjU2A is not authorized to perform: s3:PutObject on resource: \"arn:aws:s3:::dbstorage-prod-lceav/uc/5091e5cd-84e0-4338-9c58-21f756d7feed/1dadb6c8-6a69-4f2d-9164-c1dea59048f6/models/05f2a874-ddab-4718-a643-286e6db5e287/versions/4dee25d6-8160-4899-8d43-d10e1f7591ff/metadata/requirements.txt\" with an explicit deny in a resource-based policy\\')', '/local_disk0/repl_tmp_data/ReplId-197da-d4371-6/tmptffdqb5n/model/metadata/conda.yaml': 'S3UploadFailedError(\\'Failed to upload /local_disk0/repl_tmp_data/ReplId-197da-d4371-6/tmptffdqb5n/model/metadata/conda.yaml to dbstorage-prod-lceav/uc/5091e5cd-84e0-4338-9c58-21f756d7feed/1dadb6c8-6a69-4f2d-9164-c1dea59048f6/models/05f2a874-ddab-4718-a643-286e6db5e287/versions/4dee25d6-8160-4899-8d43-d10e1f7591ff/metadata/conda.yaml: An error occurred (AccessDenied) when calling the PutObject operation: User: arn:aws:sts::866450131174:assumed-role/dbrole-prod-v9a1x/m=Ha22yGppTy2RZMHepZBI9g,s=W993O0KIRmuJSkgwncjU2A is not authorized to perform: s3:PutObject on resource: \"arn:aws:s3:::dbstorage-prod-lceav/uc/5091e5cd-84e0-4338-9c58-21f756d7feed/1dadb6c8-6a69-4f2d-9164-c1dea59048f6/models/05f2a874-ddab-4718-a643-286e6db5e287/versions/4dee25d6-8160-4899-8d43-d10e1f7591ff/metadata/conda.yaml\" with an explicit deny in a resource-based policy\\')', '/local_disk0/repl_tmp_data/ReplId-197da-d4371-6/tmptffdqb5n/model/metadata/python_env.yaml': 'S3UploadFailedError(\\'Failed to upload /local_disk0/repl_tmp_data/ReplId-197da-d4371-6/tmptffdqb5n/model/metadata/python_env.yaml to dbstorage-prod-lceav/uc/5091e5cd-84e0-4338-9c58-21f756d7feed/1dadb6c8-6a69-4f2d-9164-c1dea59048f6/models/05f2a874-ddab-4718-a643-286e6db5e287/versions/4dee25d6-8160-4899-8d43-d10e1f7591ff/metadata/python_env.yaml: An error occurred (AccessDenied) when calling the PutObject operation: User: arn:aws:sts::866450131174:assumed-role/dbrole-prod-v9a1x/m=Ha22yGppTy2RZMHepZBI9g,s=W993O0KIRmuJSkgwncjU2A is not authorized to perform: s3:PutObject on resource: \"arn:aws:s3:::dbstorage-prod-lceav/uc/5091e5cd-84e0-4338-9c58-21f756d7feed/1dadb6c8-6a69-4f2d-9164-c1dea59048f6/models/05f2a874-ddab-4718-a643-286e6db5e287/versions/4dee25d6-8160-4899-8d43-d10e1f7591ff/metadata/python_env.yaml\" with an explicit deny in a resource-based policy\\')'}"
       },
       "metadata": {
        "errorSummary": "<span class='ansi-red-fg'>MlflowException</span>: The following failures occurred while uploading one or more artifacts to s3://dbstorage-prod-lceav/uc/5091e5cd-84e0-4338-9c58-21f756d7feed/1dadb6c8-6a69-4f2d-9164-c1dea59048f6/models/05f2a874-ddab-4718-a643-286e6db5e287/versions/4dee25d6-8160-4899-8d43-d10e1f7591ff: {'/local_disk0/repl_tmp_data/ReplId-197da-d4371-6/tmptffdqb5n/model/MLmodel': 'S3UploadFailedError(\\'Failed to upload /local_disk0/repl_tmp_data/ReplId-197da-d4371-6/tmptffdqb5n/model/MLmodel to dbstorage-prod-lceav/uc/5091e5cd-84e0-4338-9c58-21f756d7feed/1dadb6c8-6a69-4f2d-9164-c1dea59048f6/models/05f2a874-ddab-4718-a643-286e6db5e287/versions/4dee25d6-8160-4899-8d43-d10e1f7591ff/MLmodel: An error occurred (AccessDenied) when calling the PutObject operation: User: arn:aws:sts::866450131174:assumed-role/dbrole-prod-v9a1x/m=Ha22yGppTy2RZMHepZBI9g,s=W993O0KIRmuJSkgwncjU2A is not authorized to perform: s3:PutObject on resource: \"arn:aws:s3:::dbstorage-prod-lceav/uc/5091e5cd-84e0-4338-9c58-21f756d7feed/1dadb6c8-6a69-4f2d-9164-c1dea59048f6/models/05f2a874-ddab-4718-a643-286e6db5e287/versions/4dee25d6-8160-4899-8d43-d10e1f7591ff/MLmodel\" with an explicit deny in a resource-based policy\\')', '/local_disk0/repl_tmp_data/ReplId-197da-d4371-6/tmptffdqb5n/model/requirements.txt': 'S3UploadFailedError(\\'Failed to upload /local_disk0/repl_tmp_data/ReplId-197da-d4371-6/tmptffdqb5n/model/requirements.txt to dbstorage-prod-lceav/uc/5091e5cd-84e0-4338-9c58-21f756d7feed/1dadb6c8-6a69-4f2d-9164-c1dea59048f6/models/05f2a874-ddab-4718-a643-286e6db5e287/versions/4dee25d6-8160-4899-8d43-d10e1f7591ff/requirements.txt: An error occurred (AccessDenied) when calling the PutObject operation: User: arn:aws:sts::866450131174:assumed-role/dbrole-prod-v9a1x/m=Ha22yGppTy2RZMHepZBI9g,s=W993O0KIRmuJSkgwncjU2A is not authorized to perform: s3:PutObject on resource: \"arn:aws:s3:::dbstorage-prod-lceav/uc/5091e5cd-84e0-4338-9c58-21f756d7feed/1dadb6c8-6a69-4f2d-9164-c1dea59048f6/models/05f2a874-ddab-4718-a643-286e6db5e287/versions/4dee25d6-8160-4899-8d43-d10e1f7591ff/requirements.txt\" with an explicit deny in a resource-based policy\\')', '/local_disk0/repl_tmp_data/ReplId-197da-d4371-6/tmptffdqb5n/model/model.pkl': 'S3UploadFailedError(\\'Failed to upload /local_disk0/repl_tmp_data/ReplId-197da-d4371-6/tmptffdqb5n/model/model.pkl to dbstorage-prod-lceav/uc/5091e5cd-84e0-4338-9c58-21f756d7feed/1dadb6c8-6a69-4f2d-9164-c1dea59048f6/models/05f2a874-ddab-4718-a643-286e6db5e287/versions/4dee25d6-8160-4899-8d43-d10e1f7591ff/model.pkl: An error occurred (AccessDenied) when calling the PutObject operation: User: arn:aws:sts::866450131174:assumed-role/dbrole-prod-v9a1x/m=Ha22yGppTy2RZMHepZBI9g,s=W993O0KIRmuJSkgwncjU2A is not authorized to perform: s3:PutObject on resource: \"arn:aws:s3:::dbstorage-prod-lceav/uc/5091e5cd-84e0-4338-9c58-21f756d7feed/1dadb6c8-6a69-4f2d-9164-c1dea59048f6/models/05f2a874-ddab-4718-a643-286e6db5e287/versions/4dee25d6-8160-4899-8d43-d10e1f7591ff/model.pkl\" with an explicit deny in a resource-based policy\\')', '/local_disk0/repl_tmp_data/ReplId-197da-d4371-6/tmptffdqb5n/model/conda.yaml': 'S3UploadFailedError(\\'Failed to upload /local_disk0/repl_tmp_data/ReplId-197da-d4371-6/tmptffdqb5n/model/conda.yaml to dbstorage-prod-lceav/uc/5091e5cd-84e0-4338-9c58-21f756d7feed/1dadb6c8-6a69-4f2d-9164-c1dea59048f6/models/05f2a874-ddab-4718-a643-286e6db5e287/versions/4dee25d6-8160-4899-8d43-d10e1f7591ff/conda.yaml: An error occurred (AccessDenied) when calling the PutObject operation: User: arn:aws:sts::866450131174:assumed-role/dbrole-prod-v9a1x/m=Ha22yGppTy2RZMHepZBI9g,s=W993O0KIRmuJSkgwncjU2A is not authorized to perform: s3:PutObject on resource: \"arn:aws:s3:::dbstorage-prod-lceav/uc/5091e5cd-84e0-4338-9c58-21f756d7feed/1dadb6c8-6a69-4f2d-9164-c1dea59048f6/models/05f2a874-ddab-4718-a643-286e6db5e287/versions/4dee25d6-8160-4899-8d43-d10e1f7591ff/conda.yaml\" with an explicit deny in a resource-based policy\\')', '/local_disk0/repl_tmp_data/ReplId-197da-d4371-6/tmptffdqb5n/model/python_env.yaml': 'S3UploadFailedError(\\'Failed to upload /local_disk0/repl_tmp_data/ReplId-197da-d4371-6/tmptffdqb5n/model/python_env.yaml to dbstorage-prod-lceav/uc/5091e5cd-84e0-4338-9c58-21f756d7feed/1dadb6c8-6a69-4f2d-9164-c1dea59048f6/models/05f2a874-ddab-4718-a643-286e6db5e287/versions/4dee25d6-8160-4899-8d43-d10e1f7591ff/python_env.yaml: An error occurred (AccessDenied) when calling the PutObject operation: User: arn:aws:sts::866450131174:assumed-role/dbrole-prod-v9a1x/m=Ha22yGppTy2RZMHepZBI9g,s=W993O0KIRmuJSkgwncjU2A is not authorized to perform: s3:PutObject on resource: \"arn:aws:s3:::dbstorage-prod-lceav/uc/5091e5cd-84e0-4338-9c58-21f756d7feed/1dadb6c8-6a69-4f2d-9164-c1dea59048f6/models/05f2a874-ddab-4718-a643-286e6db5e287/versions/4dee25d6-8160-4899-8d43-d10e1f7591ff/python_env.yaml\" with an explicit deny in a resource-based policy\\')', '/local_disk0/repl_tmp_data/ReplId-197da-d4371-6/tmptffdqb5n/model/metadata/MLmodel': 'S3UploadFailedError(\\'Failed to upload /local_disk0/repl_tmp_data/ReplId-197da-d4371-6/tmptffdqb5n/model/metadata/MLmodel to dbstorage-prod-lceav/uc/5091e5cd-84e0-4338-9c58-21f756d7feed/1dadb6c8-6a69-4f2d-9164-c1dea59048f6/models/05f2a874-ddab-4718-a643-286e6db5e287/versions/4dee25d6-8160-4899-8d43-d10e1f7591ff/metadata/MLmodel: An error occurred (AccessDenied) when calling the PutObject operation: User: arn:aws:sts::866450131174:assumed-role/dbrole-prod-v9a1x/m=Ha22yGppTy2RZMHepZBI9g,s=W993O0KIRmuJSkgwncjU2A is not authorized to perform: s3:PutObject on resource: \"arn:aws:s3:::dbstorage-prod-lceav/uc/5091e5cd-84e0-4338-9c58-21f756d7feed/1dadb6c8-6a69-4f2d-9164-c1dea59048f6/models/05f2a874-ddab-4718-a643-286e6db5e287/versions/4dee25d6-8160-4899-8d43-d10e1f7591ff/metadata/MLmodel\" with an explicit deny in a resource-based policy\\')', '/local_disk0/repl_tmp_data/ReplId-197da-d4371-6/tmptffdqb5n/model/metadata/requirements.txt': 'S3UploadFailedError(\\'Failed to upload /local_disk0/repl_tmp_data/ReplId-197da-d4371-6/tmptffdqb5n/model/metadata/requirements.txt to dbstorage-prod-lceav/uc/5091e5cd-84e0-4338-9c58-21f756d7feed/1dadb6c8-6a69-4f2d-9164-c1dea59048f6/models/05f2a874-ddab-4718-a643-286e6db5e287/versions/4dee25d6-8160-4899-8d43-d10e1f7591ff/metadata/requirements.txt: An error occurred (AccessDenied) when calling the PutObject operation: User: arn:aws:sts::866450131174:assumed-role/dbrole-prod-v9a1x/m=Ha22yGppTy2RZMHepZBI9g,s=W993O0KIRmuJSkgwncjU2A is not authorized to perform: s3:PutObject on resource: \"arn:aws:s3:::dbstorage-prod-lceav/uc/5091e5cd-84e0-4338-9c58-21f756d7feed/1dadb6c8-6a69-4f2d-9164-c1dea59048f6/models/05f2a874-ddab-4718-a643-286e6db5e287/versions/4dee25d6-8160-4899-8d43-d10e1f7591ff/metadata/requirements.txt\" with an explicit deny in a resource-based policy\\')', '/local_disk0/repl_tmp_data/ReplId-197da-d4371-6/tmptffdqb5n/model/metadata/conda.yaml': 'S3UploadFailedError(\\'Failed to upload /local_disk0/repl_tmp_data/ReplId-197da-d4371-6/tmptffdqb5n/model/metadata/conda.yaml to dbstorage-prod-lceav/uc/5091e5cd-84e0-4338-9c58-21f756d7feed/1dadb6c8-6a69-4f2d-9164-c1dea59048f6/models/05f2a874-ddab-4718-a643-286e6db5e287/versions/4dee25d6-8160-4899-8d43-d10e1f7591ff/metadata/conda.yaml: An error occurred (AccessDenied) when calling the PutObject operation: User: arn:aws:sts::866450131174:assumed-role/dbrole-prod-v9a1x/m=Ha22yGppTy2RZMHepZBI9g,s=W993O0KIRmuJSkgwncjU2A is not authorized to perform: s3:PutObject on resource: \"arn:aws:s3:::dbstorage-prod-lceav/uc/5091e5cd-84e0-4338-9c58-21f756d7feed/1dadb6c8-6a69-4f2d-9164-c1dea59048f6/models/05f2a874-ddab-4718-a643-286e6db5e287/versions/4dee25d6-8160-4899-8d43-d10e1f7591ff/metadata/conda.yaml\" with an explicit deny in a resource-based policy\\')', '/local_disk0/repl_tmp_data/ReplId-197da-d4371-6/tmptffdqb5n/model/metadata/python_env.yaml': 'S3UploadFailedError(\\'Failed to upload /local_disk0/repl_tmp_data/ReplId-197da-d4371-6/tmptffdqb5n/model/metadata/python_env.yaml to dbstorage-prod-lceav/uc/5091e5cd-84e0-4338-9c58-21f756d7feed/1dadb6c8-6a69-4f2d-9164-c1dea59048f6/models/05f2a874-ddab-4718-a643-286e6db5e287/versions/4dee25d6-8160-4899-8d43-d10e1f7591ff/metadata/python_env.yaml: An error occurred (AccessDenied) when calling the PutObject operation: User: arn:aws:sts::866450131174:assumed-role/dbrole-prod-v9a1x/m=Ha22yGppTy2RZMHepZBI9g,s=W993O0KIRmuJSkgwncjU2A is not authorized to perform: s3:PutObject on resource: \"arn:aws:s3:::dbstorage-prod-lceav/uc/5091e5cd-84e0-4338-9c58-21f756d7feed/1dadb6c8-6a69-4f2d-9164-c1dea59048f6/models/05f2a874-ddab-4718-a643-286e6db5e287/versions/4dee25d6-8160-4899-8d43-d10e1f7591ff/metadata/python_env.yaml\" with an explicit deny in a resource-based policy\\')'}"
       },
       "removedWidgets": [],
       "sqlProps": null,
       "stackFrames": [
        "\u001B[0;31m---------------------------------------------------------------------------\u001B[0m",
        "\u001B[0;31mMlflowException\u001B[0m                           Traceback (most recent call last)",
        "File \u001B[0;32m<command-6879499967690092>, line 28\u001B[0m\n\u001B[1;32m     25\u001B[0m     new_model_uri \u001B[38;5;241m=\u001B[39m \u001B[38;5;124mf\u001B[39m\u001B[38;5;124m\"\u001B[39m\u001B[38;5;124mruns:/\u001B[39m\u001B[38;5;132;01m{\u001B[39;00mrun\u001B[38;5;241m.\u001B[39minfo\u001B[38;5;241m.\u001B[39mrun_id\u001B[38;5;132;01m}\u001B[39;00m\u001B[38;5;124m/model\u001B[39m\u001B[38;5;124m\"\u001B[39m\n\u001B[1;32m     27\u001B[0m \u001B[38;5;66;03m# Register using new URI\u001B[39;00m\n\u001B[0;32m---> 28\u001B[0m mlflow\u001B[38;5;241m.\u001B[39mregister_model(new_model_uri, \u001B[38;5;124mf\u001B[39m\u001B[38;5;124m\"\u001B[39m\u001B[38;5;132;01m{\u001B[39;00mCATALOG_NAME\u001B[38;5;132;01m}\u001B[39;00m\u001B[38;5;124m.\u001B[39m\u001B[38;5;132;01m{\u001B[39;00mSCHEMA_NAME\u001B[38;5;132;01m}\u001B[39;00m\u001B[38;5;124m.mvis_model_m\u001B[39m\u001B[38;5;124m\"\u001B[39m)\n",
        "File \u001B[0;32m/databricks/python/lib/python3.11/site-packages/mlflow/tracking/_model_registry/fluent.py:77\u001B[0m, in \u001B[0;36mregister_model\u001B[0;34m(model_uri, name, await_registration_for, tags)\u001B[0m\n\u001B[1;32m     17\u001B[0m \u001B[38;5;28;01mdef\u001B[39;00m \u001B[38;5;21mregister_model\u001B[39m(\n\u001B[1;32m     18\u001B[0m     model_uri,\n\u001B[1;32m     19\u001B[0m     name,\n\u001B[0;32m   (...)\u001B[0m\n\u001B[1;32m     22\u001B[0m     tags: Optional[Dict[\u001B[38;5;28mstr\u001B[39m, Any]] \u001B[38;5;241m=\u001B[39m \u001B[38;5;28;01mNone\u001B[39;00m,\n\u001B[1;32m     23\u001B[0m ) \u001B[38;5;241m-\u001B[39m\u001B[38;5;241m>\u001B[39m ModelVersion:\n\u001B[1;32m     24\u001B[0m \u001B[38;5;250m    \u001B[39m\u001B[38;5;124;03m\"\"\"Create a new model version in model registry for the model files specified by ``model_uri``.\u001B[39;00m\n\u001B[1;32m     25\u001B[0m \n\u001B[1;32m     26\u001B[0m \u001B[38;5;124;03m    Note that this method assumes the model registry backend URI is the same as that of the\u001B[39;00m\n\u001B[0;32m   (...)\u001B[0m\n\u001B[1;32m     75\u001B[0m \u001B[38;5;124;03m        Version: 1\u001B[39;00m\n\u001B[1;32m     76\u001B[0m \u001B[38;5;124;03m    \"\"\"\u001B[39;00m\n\u001B[0;32m---> 77\u001B[0m     \u001B[38;5;28;01mreturn\u001B[39;00m _register_model(\n\u001B[1;32m     78\u001B[0m         model_uri\u001B[38;5;241m=\u001B[39mmodel_uri, name\u001B[38;5;241m=\u001B[39mname, await_registration_for\u001B[38;5;241m=\u001B[39mawait_registration_for, tags\u001B[38;5;241m=\u001B[39mtags\n\u001B[1;32m     79\u001B[0m     )\n",
        "File \u001B[0;32m/databricks/python/lib/python3.11/site-packages/mlflow/tracking/_model_registry/fluent.py:112\u001B[0m, in \u001B[0;36m_register_model\u001B[0;34m(model_uri, name, await_registration_for, tags, local_model_path)\u001B[0m\n\u001B[1;32m    109\u001B[0m     source \u001B[38;5;241m=\u001B[39m RunsArtifactRepository\u001B[38;5;241m.\u001B[39mget_underlying_uri(model_uri)\n\u001B[1;32m    110\u001B[0m     (run_id, _) \u001B[38;5;241m=\u001B[39m RunsArtifactRepository\u001B[38;5;241m.\u001B[39mparse_runs_uri(model_uri)\n\u001B[0;32m--> 112\u001B[0m create_version_response \u001B[38;5;241m=\u001B[39m client\u001B[38;5;241m.\u001B[39m_create_model_version(\n\u001B[1;32m    113\u001B[0m     name\u001B[38;5;241m=\u001B[39mname,\n\u001B[1;32m    114\u001B[0m     source\u001B[38;5;241m=\u001B[39msource,\n\u001B[1;32m    115\u001B[0m     run_id\u001B[38;5;241m=\u001B[39mrun_id,\n\u001B[1;32m    116\u001B[0m     tags\u001B[38;5;241m=\u001B[39mtags,\n\u001B[1;32m    117\u001B[0m     await_creation_for\u001B[38;5;241m=\u001B[39mawait_registration_for,\n\u001B[1;32m    118\u001B[0m     local_model_path\u001B[38;5;241m=\u001B[39mlocal_model_path,\n\u001B[1;32m    119\u001B[0m )\n\u001B[1;32m    120\u001B[0m eprint(\n\u001B[1;32m    121\u001B[0m     \u001B[38;5;124mf\u001B[39m\u001B[38;5;124m\"\u001B[39m\u001B[38;5;124mCreated version \u001B[39m\u001B[38;5;124m'\u001B[39m\u001B[38;5;132;01m{\u001B[39;00mcreate_version_response\u001B[38;5;241m.\u001B[39mversion\u001B[38;5;132;01m}\u001B[39;00m\u001B[38;5;124m'\u001B[39m\u001B[38;5;124m of model \u001B[39m\u001B[38;5;124m\"\u001B[39m\n\u001B[1;32m    122\u001B[0m     \u001B[38;5;124mf\u001B[39m\u001B[38;5;124m\"\u001B[39m\u001B[38;5;124m'\u001B[39m\u001B[38;5;132;01m{\u001B[39;00mcreate_version_response\u001B[38;5;241m.\u001B[39mname\u001B[38;5;132;01m}\u001B[39;00m\u001B[38;5;124m'\u001B[39m\u001B[38;5;124m.\u001B[39m\u001B[38;5;124m\"\u001B[39m\n\u001B[1;32m    123\u001B[0m )\n\u001B[1;32m    124\u001B[0m \u001B[38;5;28;01mreturn\u001B[39;00m create_version_response\n",
        "File \u001B[0;32m/databricks/python/lib/python3.11/site-packages/mlflow/tracking/client.py:2714\u001B[0m, in \u001B[0;36mMlflowClient._create_model_version\u001B[0;34m(self, name, source, run_id, tags, run_link, description, await_creation_for, local_model_path)\u001B[0m\n\u001B[1;32m   2706\u001B[0m     \u001B[38;5;66;03m# NOTE: we can't easily delete the target temp location due to the async nature\u001B[39;00m\n\u001B[1;32m   2707\u001B[0m     \u001B[38;5;66;03m# of the model version creation - printing to let the user know.\u001B[39;00m\n\u001B[1;32m   2708\u001B[0m     eprint(\n\u001B[1;32m   2709\u001B[0m         \u001B[38;5;124mf\u001B[39m\u001B[38;5;124m\"\u001B[39m\u001B[38;5;124m=== Source model files were copied to \u001B[39m\u001B[38;5;132;01m{\u001B[39;00mnew_source\u001B[38;5;132;01m}\u001B[39;00m\u001B[38;5;124m\"\u001B[39m\n\u001B[1;32m   2710\u001B[0m         \u001B[38;5;241m+\u001B[39m \u001B[38;5;124m\"\u001B[39m\u001B[38;5;124m in the model registry workspace. You may want to delete the files once the\u001B[39m\u001B[38;5;124m\"\u001B[39m\n\u001B[1;32m   2711\u001B[0m         \u001B[38;5;241m+\u001B[39m \u001B[38;5;124m\"\u001B[39m\u001B[38;5;124m model version is in \u001B[39m\u001B[38;5;124m'\u001B[39m\u001B[38;5;124mREADY\u001B[39m\u001B[38;5;124m'\u001B[39m\u001B[38;5;124m status. You can also find this location in the\u001B[39m\u001B[38;5;124m\"\u001B[39m\n\u001B[1;32m   2712\u001B[0m         \u001B[38;5;241m+\u001B[39m \u001B[38;5;124m\"\u001B[39m\u001B[38;5;124m `source` field of the created model version. ===\u001B[39m\u001B[38;5;124m\"\u001B[39m\n\u001B[1;32m   2713\u001B[0m     )\n\u001B[0;32m-> 2714\u001B[0m \u001B[38;5;28;01mreturn\u001B[39;00m \u001B[38;5;28mself\u001B[39m\u001B[38;5;241m.\u001B[39m_get_registry_client()\u001B[38;5;241m.\u001B[39mcreate_model_version(\n\u001B[1;32m   2715\u001B[0m     name\u001B[38;5;241m=\u001B[39mname,\n\u001B[1;32m   2716\u001B[0m     source\u001B[38;5;241m=\u001B[39mnew_source,\n\u001B[1;32m   2717\u001B[0m     run_id\u001B[38;5;241m=\u001B[39mrun_id,\n\u001B[1;32m   2718\u001B[0m     tags\u001B[38;5;241m=\u001B[39mtags,\n\u001B[1;32m   2719\u001B[0m     run_link\u001B[38;5;241m=\u001B[39mrun_link,\n\u001B[1;32m   2720\u001B[0m     description\u001B[38;5;241m=\u001B[39mdescription,\n\u001B[1;32m   2721\u001B[0m     await_creation_for\u001B[38;5;241m=\u001B[39mawait_creation_for,\n\u001B[1;32m   2722\u001B[0m     local_model_path\u001B[38;5;241m=\u001B[39mlocal_model_path,\n\u001B[1;32m   2723\u001B[0m )\n",
        "File \u001B[0;32m/databricks/python/lib/python3.11/site-packages/mlflow/tracking/_model_registry/client.py:215\u001B[0m, in \u001B[0;36mModelRegistryClient.create_model_version\u001B[0;34m(self, name, source, run_id, tags, run_link, description, await_creation_for, local_model_path)\u001B[0m\n\u001B[1;32m    213\u001B[0m arg_names \u001B[38;5;241m=\u001B[39m _get_arg_names(\u001B[38;5;28mself\u001B[39m\u001B[38;5;241m.\u001B[39mstore\u001B[38;5;241m.\u001B[39mcreate_model_version)\n\u001B[1;32m    214\u001B[0m \u001B[38;5;28;01mif\u001B[39;00m \u001B[38;5;124m\"\u001B[39m\u001B[38;5;124mlocal_model_path\u001B[39m\u001B[38;5;124m\"\u001B[39m \u001B[38;5;129;01min\u001B[39;00m arg_names:\n\u001B[0;32m--> 215\u001B[0m     mv \u001B[38;5;241m=\u001B[39m \u001B[38;5;28mself\u001B[39m\u001B[38;5;241m.\u001B[39mstore\u001B[38;5;241m.\u001B[39mcreate_model_version(\n\u001B[1;32m    216\u001B[0m         name,\n\u001B[1;32m    217\u001B[0m         source,\n\u001B[1;32m    218\u001B[0m         run_id,\n\u001B[1;32m    219\u001B[0m         tags,\n\u001B[1;32m    220\u001B[0m         run_link,\n\u001B[1;32m    221\u001B[0m         description,\n\u001B[1;32m    222\u001B[0m         local_model_path\u001B[38;5;241m=\u001B[39mlocal_model_path,\n\u001B[1;32m    223\u001B[0m     )\n\u001B[1;32m    224\u001B[0m \u001B[38;5;28;01melse\u001B[39;00m:\n\u001B[1;32m    225\u001B[0m     \u001B[38;5;66;03m# Fall back to calling create_model_version without\u001B[39;00m\n\u001B[1;32m    226\u001B[0m     \u001B[38;5;66;03m# local_model_path since old model registry store implementations may not\u001B[39;00m\n\u001B[1;32m    227\u001B[0m     \u001B[38;5;66;03m# support the local_model_path argument.\u001B[39;00m\n\u001B[1;32m    228\u001B[0m     mv \u001B[38;5;241m=\u001B[39m \u001B[38;5;28mself\u001B[39m\u001B[38;5;241m.\u001B[39mstore\u001B[38;5;241m.\u001B[39mcreate_model_version(name, source, run_id, tags, run_link, description)\n",
        "File \u001B[0;32m/databricks/python/lib/python3.11/site-packages/mlflow/store/_unity_catalog/registry/rest_store.py:737\u001B[0m, in \u001B[0;36mUcModelRegistryStore.create_model_version\u001B[0;34m(self, name, source, run_id, tags, run_link, description, local_model_path)\u001B[0m\n\u001B[1;32m    731\u001B[0m scoped_token \u001B[38;5;241m=\u001B[39m \u001B[38;5;28mself\u001B[39m\u001B[38;5;241m.\u001B[39m_get_temporary_model_version_write_credentials(\n\u001B[1;32m    732\u001B[0m     name\u001B[38;5;241m=\u001B[39mfull_name, version\u001B[38;5;241m=\u001B[39mversion_number\n\u001B[1;32m    733\u001B[0m )\n\u001B[1;32m    734\u001B[0m store \u001B[38;5;241m=\u001B[39m get_artifact_repo_from_storage_info(\n\u001B[1;32m    735\u001B[0m     storage_location\u001B[38;5;241m=\u001B[39mmodel_version\u001B[38;5;241m.\u001B[39mstorage_location, scoped_token\u001B[38;5;241m=\u001B[39mscoped_token\n\u001B[1;32m    736\u001B[0m )\n\u001B[0;32m--> 737\u001B[0m store\u001B[38;5;241m.\u001B[39mlog_artifacts(local_dir\u001B[38;5;241m=\u001B[39mlocal_model_dir, artifact_path\u001B[38;5;241m=\u001B[39m\u001B[38;5;124m\"\u001B[39m\u001B[38;5;124m\"\u001B[39m)\n\u001B[1;32m    738\u001B[0m finalized_mv \u001B[38;5;241m=\u001B[39m \u001B[38;5;28mself\u001B[39m\u001B[38;5;241m.\u001B[39m_finalize_model_version(name\u001B[38;5;241m=\u001B[39mfull_name, version\u001B[38;5;241m=\u001B[39mversion_number)\n\u001B[1;32m    739\u001B[0m \u001B[38;5;28;01mreturn\u001B[39;00m model_version_from_uc_proto(finalized_mv)\n",
        "File \u001B[0;32m/databricks/python/lib/python3.11/site-packages/mlflow/store/artifact/cloud_artifact_repo.py:156\u001B[0m, in \u001B[0;36mCloudArtifactRepository.log_artifacts\u001B[0;34m(self, local_dir, artifact_path)\u001B[0m\n\u001B[1;32m    153\u001B[0m             failed_uploads[src_file_path] \u001B[38;5;241m=\u001B[39m \u001B[38;5;28mrepr\u001B[39m(e)\n\u001B[1;32m    155\u001B[0m \u001B[38;5;28;01mif\u001B[39;00m \u001B[38;5;28mlen\u001B[39m(failed_uploads) \u001B[38;5;241m>\u001B[39m \u001B[38;5;241m0\u001B[39m:\n\u001B[0;32m--> 156\u001B[0m     \u001B[38;5;28;01mraise\u001B[39;00m MlflowException(\n\u001B[1;32m    157\u001B[0m         message\u001B[38;5;241m=\u001B[39m(\n\u001B[1;32m    158\u001B[0m             \u001B[38;5;124m\"\u001B[39m\u001B[38;5;124mThe following failures occurred while uploading one or more artifacts\u001B[39m\u001B[38;5;124m\"\u001B[39m\n\u001B[1;32m    159\u001B[0m             \u001B[38;5;124mf\u001B[39m\u001B[38;5;124m\"\u001B[39m\u001B[38;5;124m to \u001B[39m\u001B[38;5;132;01m{\u001B[39;00m\u001B[38;5;28mself\u001B[39m\u001B[38;5;241m.\u001B[39martifact_uri\u001B[38;5;132;01m}\u001B[39;00m\u001B[38;5;124m: \u001B[39m\u001B[38;5;132;01m{\u001B[39;00mfailed_uploads\u001B[38;5;132;01m}\u001B[39;00m\u001B[38;5;124m\"\u001B[39m\n\u001B[1;32m    160\u001B[0m         )\n\u001B[1;32m    161\u001B[0m     )\n",
        "\u001B[0;31mMlflowException\u001B[0m: The following failures occurred while uploading one or more artifacts to s3://dbstorage-prod-lceav/uc/5091e5cd-84e0-4338-9c58-21f756d7feed/1dadb6c8-6a69-4f2d-9164-c1dea59048f6/models/05f2a874-ddab-4718-a643-286e6db5e287/versions/4dee25d6-8160-4899-8d43-d10e1f7591ff: {'/local_disk0/repl_tmp_data/ReplId-197da-d4371-6/tmptffdqb5n/model/MLmodel': 'S3UploadFailedError(\\'Failed to upload /local_disk0/repl_tmp_data/ReplId-197da-d4371-6/tmptffdqb5n/model/MLmodel to dbstorage-prod-lceav/uc/5091e5cd-84e0-4338-9c58-21f756d7feed/1dadb6c8-6a69-4f2d-9164-c1dea59048f6/models/05f2a874-ddab-4718-a643-286e6db5e287/versions/4dee25d6-8160-4899-8d43-d10e1f7591ff/MLmodel: An error occurred (AccessDenied) when calling the PutObject operation: User: arn:aws:sts::866450131174:assumed-role/dbrole-prod-v9a1x/m=Ha22yGppTy2RZMHepZBI9g,s=W993O0KIRmuJSkgwncjU2A is not authorized to perform: s3:PutObject on resource: \"arn:aws:s3:::dbstorage-prod-lceav/uc/5091e5cd-84e0-4338-9c58-21f756d7feed/1dadb6c8-6a69-4f2d-9164-c1dea59048f6/models/05f2a874-ddab-4718-a643-286e6db5e287/versions/4dee25d6-8160-4899-8d43-d10e1f7591ff/MLmodel\" with an explicit deny in a resource-based policy\\')', '/local_disk0/repl_tmp_data/ReplId-197da-d4371-6/tmptffdqb5n/model/requirements.txt': 'S3UploadFailedError(\\'Failed to upload /local_disk0/repl_tmp_data/ReplId-197da-d4371-6/tmptffdqb5n/model/requirements.txt to dbstorage-prod-lceav/uc/5091e5cd-84e0-4338-9c58-21f756d7feed/1dadb6c8-6a69-4f2d-9164-c1dea59048f6/models/05f2a874-ddab-4718-a643-286e6db5e287/versions/4dee25d6-8160-4899-8d43-d10e1f7591ff/requirements.txt: An error occurred (AccessDenied) when calling the PutObject operation: User: arn:aws:sts::866450131174:assumed-role/dbrole-prod-v9a1x/m=Ha22yGppTy2RZMHepZBI9g,s=W993O0KIRmuJSkgwncjU2A is not authorized to perform: s3:PutObject on resource: \"arn:aws:s3:::dbstorage-prod-lceav/uc/5091e5cd-84e0-4338-9c58-21f756d7feed/1dadb6c8-6a69-4f2d-9164-c1dea59048f6/models/05f2a874-ddab-4718-a643-286e6db5e287/versions/4dee25d6-8160-4899-8d43-d10e1f7591ff/requirements.txt\" with an explicit deny in a resource-based policy\\')', '/local_disk0/repl_tmp_data/ReplId-197da-d4371-6/tmptffdqb5n/model/model.pkl': 'S3UploadFailedError(\\'Failed to upload /local_disk0/repl_tmp_data/ReplId-197da-d4371-6/tmptffdqb5n/model/model.pkl to dbstorage-prod-lceav/uc/5091e5cd-84e0-4338-9c58-21f756d7feed/1dadb6c8-6a69-4f2d-9164-c1dea59048f6/models/05f2a874-ddab-4718-a643-286e6db5e287/versions/4dee25d6-8160-4899-8d43-d10e1f7591ff/model.pkl: An error occurred (AccessDenied) when calling the PutObject operation: User: arn:aws:sts::866450131174:assumed-role/dbrole-prod-v9a1x/m=Ha22yGppTy2RZMHepZBI9g,s=W993O0KIRmuJSkgwncjU2A is not authorized to perform: s3:PutObject on resource: \"arn:aws:s3:::dbstorage-prod-lceav/uc/5091e5cd-84e0-4338-9c58-21f756d7feed/1dadb6c8-6a69-4f2d-9164-c1dea59048f6/models/05f2a874-ddab-4718-a643-286e6db5e287/versions/4dee25d6-8160-4899-8d43-d10e1f7591ff/model.pkl\" with an explicit deny in a resource-based policy\\')', '/local_disk0/repl_tmp_data/ReplId-197da-d4371-6/tmptffdqb5n/model/conda.yaml': 'S3UploadFailedError(\\'Failed to upload /local_disk0/repl_tmp_data/ReplId-197da-d4371-6/tmptffdqb5n/model/conda.yaml to dbstorage-prod-lceav/uc/5091e5cd-84e0-4338-9c58-21f756d7feed/1dadb6c8-6a69-4f2d-9164-c1dea59048f6/models/05f2a874-ddab-4718-a643-286e6db5e287/versions/4dee25d6-8160-4899-8d43-d10e1f7591ff/conda.yaml: An error occurred (AccessDenied) when calling the PutObject operation: User: arn:aws:sts::866450131174:assumed-role/dbrole-prod-v9a1x/m=Ha22yGppTy2RZMHepZBI9g,s=W993O0KIRmuJSkgwncjU2A is not authorized to perform: s3:PutObject on resource: \"arn:aws:s3:::dbstorage-prod-lceav/uc/5091e5cd-84e0-4338-9c58-21f756d7feed/1dadb6c8-6a69-4f2d-9164-c1dea59048f6/models/05f2a874-ddab-4718-a643-286e6db5e287/versions/4dee25d6-8160-4899-8d43-d10e1f7591ff/conda.yaml\" with an explicit deny in a resource-based policy\\')', '/local_disk0/repl_tmp_data/ReplId-197da-d4371-6/tmptffdqb5n/model/python_env.yaml': 'S3UploadFailedError(\\'Failed to upload /local_disk0/repl_tmp_data/ReplId-197da-d4371-6/tmptffdqb5n/model/python_env.yaml to dbstorage-prod-lceav/uc/5091e5cd-84e0-4338-9c58-21f756d7feed/1dadb6c8-6a69-4f2d-9164-c1dea59048f6/models/05f2a874-ddab-4718-a643-286e6db5e287/versions/4dee25d6-8160-4899-8d43-d10e1f7591ff/python_env.yaml: An error occurred (AccessDenied) when calling the PutObject operation: User: arn:aws:sts::866450131174:assumed-role/dbrole-prod-v9a1x/m=Ha22yGppTy2RZMHepZBI9g,s=W993O0KIRmuJSkgwncjU2A is not authorized to perform: s3:PutObject on resource: \"arn:aws:s3:::dbstorage-prod-lceav/uc/5091e5cd-84e0-4338-9c58-21f756d7feed/1dadb6c8-6a69-4f2d-9164-c1dea59048f6/models/05f2a874-ddab-4718-a643-286e6db5e287/versions/4dee25d6-8160-4899-8d43-d10e1f7591ff/python_env.yaml\" with an explicit deny in a resource-based policy\\')', '/local_disk0/repl_tmp_data/ReplId-197da-d4371-6/tmptffdqb5n/model/metadata/MLmodel': 'S3UploadFailedError(\\'Failed to upload /local_disk0/repl_tmp_data/ReplId-197da-d4371-6/tmptffdqb5n/model/metadata/MLmodel to dbstorage-prod-lceav/uc/5091e5cd-84e0-4338-9c58-21f756d7feed/1dadb6c8-6a69-4f2d-9164-c1dea59048f6/models/05f2a874-ddab-4718-a643-286e6db5e287/versions/4dee25d6-8160-4899-8d43-d10e1f7591ff/metadata/MLmodel: An error occurred (AccessDenied) when calling the PutObject operation: User: arn:aws:sts::866450131174:assumed-role/dbrole-prod-v9a1x/m=Ha22yGppTy2RZMHepZBI9g,s=W993O0KIRmuJSkgwncjU2A is not authorized to perform: s3:PutObject on resource: \"arn:aws:s3:::dbstorage-prod-lceav/uc/5091e5cd-84e0-4338-9c58-21f756d7feed/1dadb6c8-6a69-4f2d-9164-c1dea59048f6/models/05f2a874-ddab-4718-a643-286e6db5e287/versions/4dee25d6-8160-4899-8d43-d10e1f7591ff/metadata/MLmodel\" with an explicit deny in a resource-based policy\\')', '/local_disk0/repl_tmp_data/ReplId-197da-d4371-6/tmptffdqb5n/model/metadata/requirements.txt': 'S3UploadFailedError(\\'Failed to upload /local_disk0/repl_tmp_data/ReplId-197da-d4371-6/tmptffdqb5n/model/metadata/requirements.txt to dbstorage-prod-lceav/uc/5091e5cd-84e0-4338-9c58-21f756d7feed/1dadb6c8-6a69-4f2d-9164-c1dea59048f6/models/05f2a874-ddab-4718-a643-286e6db5e287/versions/4dee25d6-8160-4899-8d43-d10e1f7591ff/metadata/requirements.txt: An error occurred (AccessDenied) when calling the PutObject operation: User: arn:aws:sts::866450131174:assumed-role/dbrole-prod-v9a1x/m=Ha22yGppTy2RZMHepZBI9g,s=W993O0KIRmuJSkgwncjU2A is not authorized to perform: s3:PutObject on resource: \"arn:aws:s3:::dbstorage-prod-lceav/uc/5091e5cd-84e0-4338-9c58-21f756d7feed/1dadb6c8-6a69-4f2d-9164-c1dea59048f6/models/05f2a874-ddab-4718-a643-286e6db5e287/versions/4dee25d6-8160-4899-8d43-d10e1f7591ff/metadata/requirements.txt\" with an explicit deny in a resource-based policy\\')', '/local_disk0/repl_tmp_data/ReplId-197da-d4371-6/tmptffdqb5n/model/metadata/conda.yaml': 'S3UploadFailedError(\\'Failed to upload /local_disk0/repl_tmp_data/ReplId-197da-d4371-6/tmptffdqb5n/model/metadata/conda.yaml to dbstorage-prod-lceav/uc/5091e5cd-84e0-4338-9c58-21f756d7feed/1dadb6c8-6a69-4f2d-9164-c1dea59048f6/models/05f2a874-ddab-4718-a643-286e6db5e287/versions/4dee25d6-8160-4899-8d43-d10e1f7591ff/metadata/conda.yaml: An error occurred (AccessDenied) when calling the PutObject operation: User: arn:aws:sts::866450131174:assumed-role/dbrole-prod-v9a1x/m=Ha22yGppTy2RZMHepZBI9g,s=W993O0KIRmuJSkgwncjU2A is not authorized to perform: s3:PutObject on resource: \"arn:aws:s3:::dbstorage-prod-lceav/uc/5091e5cd-84e0-4338-9c58-21f756d7feed/1dadb6c8-6a69-4f2d-9164-c1dea59048f6/models/05f2a874-ddab-4718-a643-286e6db5e287/versions/4dee25d6-8160-4899-8d43-d10e1f7591ff/metadata/conda.yaml\" with an explicit deny in a resource-based policy\\')', '/local_disk0/repl_tmp_data/ReplId-197da-d4371-6/tmptffdqb5n/model/metadata/python_env.yaml': 'S3UploadFailedError(\\'Failed to upload /local_disk0/repl_tmp_data/ReplId-197da-d4371-6/tmptffdqb5n/model/metadata/python_env.yaml to dbstorage-prod-lceav/uc/5091e5cd-84e0-4338-9c58-21f756d7feed/1dadb6c8-6a69-4f2d-9164-c1dea59048f6/models/05f2a874-ddab-4718-a643-286e6db5e287/versions/4dee25d6-8160-4899-8d43-d10e1f7591ff/metadata/python_env.yaml: An error occurred (AccessDenied) when calling the PutObject operation: User: arn:aws:sts::866450131174:assumed-role/dbrole-prod-v9a1x/m=Ha22yGppTy2RZMHepZBI9g,s=W993O0KIRmuJSkgwncjU2A is not authorized to perform: s3:PutObject on resource: \"arn:aws:s3:::dbstorage-prod-lceav/uc/5091e5cd-84e0-4338-9c58-21f756d7feed/1dadb6c8-6a69-4f2d-9164-c1dea59048f6/models/05f2a874-ddab-4718-a643-286e6db5e287/versions/4dee25d6-8160-4899-8d43-d10e1f7591ff/metadata/python_env.yaml\" with an explicit deny in a resource-based policy\\')'}"
       ],
       "type": "baseError"
      }
     },
     "output_type": "display_data"
    }
   ],
   "source": [
    "import mlflow\n",
    "from mlflow.models.signature import infer_signature\n",
    "import mlflow.sklearn\n",
    "\n",
    "model_uri = 'runs:/8b0e74a62db6487d8978a18e59377c1d/model'\n",
    "\n",
    "# Load the model\n",
    "model = mlflow.sklearn.load_model(model_uri)\n",
    "\n",
    "if mlflow.active_run() is not None:\n",
    "    mlflow.end_run()\n",
    "\n",
    "# Start a new run\n",
    "with mlflow.start_run() as run:\n",
    "    # (Optional) Retrain if needed\n",
    "    # model.fit(X_train, y_train)\n",
    "\n",
    "    # Infer signature\n",
    "    signature = infer_signature(X_train, model.predict(X_train))\n",
    "\n",
    "    # Log model with signature\n",
    "    mlflow.sklearn.log_model(model, \"model\", signature=signature)\n",
    "\n",
    "    # New URI for registration\n",
    "    new_model_uri = f\"runs:/{run.info.run_id}/model\"\n",
    "\n",
    "\n"
   ]
  },
  {
   "cell_type": "code",
   "execution_count": 0,
   "metadata": {
    "application/vnd.databricks.v1+cell": {
     "cellMetadata": {
      "byteLimit": 2048000,
      "rowLimit": 10000
     },
     "inputWidgets": {},
     "nuid": "35bf9feb-e95d-4fdc-b1fe-83ecb5534c1a",
     "showTitle": false,
     "tableResultSettingsMap": {},
     "title": ""
    }
   },
   "outputs": [
    {
     "output_type": "stream",
     "name": "stderr",
     "output_type": "stream",
     "text": [
      "/databricks/python/lib/python3.11/site-packages/mlflow/protos/service_pb2.py:11: UserWarning: google.protobuf.service module is deprecated. RPC implementations should provide code generator plugins which generate code specific to the RPC implementation. service.py will be removed in Jan 2025\n  from google.protobuf import service as _service\n"
     ]
    },
    {
     "output_type": "display_data",
     "data": {
      "application/vnd.jupyter.widget-view+json": {
       "model_id": "ab689211bd9d465f8e5c408744aa29ab",
       "version_major": 2,
       "version_minor": 0
      },
      "text/plain": [
       "Downloading artifacts:   0%|          | 0/9 [00:00<?, ?it/s]"
      ]
     },
     "metadata": {},
     "output_type": "display_data"
    },
    {
     "output_type": "execute_result",
     "data": {
      "text/plain": [
       "'/Workspace/Users/dhinaz2025@gmail.com/Mouse Viral Infection Study/svm/model'"
      ]
     },
     "execution_count": 2,
     "metadata": {},
     "output_type": "execute_result"
    }
   ],
   "source": [
    "import mlflow\n",
    "\n",
    "mlflow.artifacts.download_artifacts('runs:/8b0e74a62db6487d8978a18e59377c1d/model', dst_path=\"./svm\")\n"
   ]
  }
 ],
 "metadata": {
  "application/vnd.databricks.v1+notebook": {
   "computePreferences": null,
   "dashboards": [],
   "environmentMetadata": {
    "base_environment": "",
    "environment_version": "2"
   },
   "inputWidgetPreferences": null,
   "language": "python",
   "notebookMetadata": {
    "pythonIndentUnit": 4
   },
   "notebookName": "Training",
   "widgets": {}
  },
  "language_info": {
   "name": "python"
  }
 },
 "nbformat": 4,
 "nbformat_minor": 0
}